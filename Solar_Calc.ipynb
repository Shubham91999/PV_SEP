{
 "cells": [
  {
   "cell_type": "code",
   "execution_count": null,
   "id": "1fd3100a",
   "metadata": {},
   "outputs": [],
   "source": [
    "import pandas as pd\n",
    "\n",
    "# Step 1: Load the CSV file\n",
    "file_path = 'arizona_data2020.csv'  # Update path if needed\n",
    "df = pd.read_csv(file_path)\n",
    "\n",
    "# Step 2: Define constants\n",
    "EFFICIENCY = 0.18        # PV system efficiency (18%)\n",
    "HOURS_PER_YEAR = 8760    # Total hours in a year\n",
    "\n",
    "# Step 3: Calculate estimated energy in kWh/m^2/year\n",
    "df['estimated_energy_kwh_m2'] = df['ghi_mean'] * HOURS_PER_YEAR * EFFICIENCY / 1000\n",
    "\n",
    "# Step 4 (Optional): Save the result to a new CSV\n",
    "df.to_csv('arizona_with_energy_estimates.csv', index=False)\n",
    "\n",
    "# Step 5: Display first few rows to confirm\n",
    "print(df[['latitude', 'longitude', 'ghi_mean', 'estimated_energy_kwh_m2']].head())\n"
   ]
  },
  {
   "cell_type": "code",
   "execution_count": 1,
   "id": "6ab2fb06",
   "metadata": {},
   "outputs": [],
   "source": [
    "import pandas as pd"
   ]
  },
  {
   "cell_type": "code",
   "execution_count": 2,
   "id": "0afdad18",
   "metadata": {},
   "outputs": [],
   "source": [
    "# Step 1: Load the CSV file\n",
    "file_path = 'arizona_data2020.csv'  # Update path if needed\n",
    "df = pd.read_csv(file_path)\n"
   ]
  },
  {
   "cell_type": "code",
   "execution_count": 3,
   "id": "a038425c",
   "metadata": {},
   "outputs": [],
   "source": [
    "# Step 2: Define constants\n",
    "EFFICIENCY = 0.18        # PV system efficiency (18%)\n",
    "HOURS_PER_YEAR = 8760    # Total hours in a year"
   ]
  },
  {
   "cell_type": "code",
   "execution_count": 5,
   "id": "01cdf9df",
   "metadata": {},
   "outputs": [],
   "source": [
    "\n",
    "# Step 3: Calculate estimated energy in kWh/m^2/year\n",
    "df['Solar_Energy2020'] = df['ghi_mean'] * HOURS_PER_YEAR * EFFICIENCY / 1000\n"
   ]
  },
  {
   "cell_type": "code",
   "execution_count": 6,
   "id": "a9cba67b",
   "metadata": {},
   "outputs": [
    {
     "name": "stdout",
     "output_type": "stream",
     "text": [
      "   latitude  longitude    ghi_mean  estimated_energy_kwh_m2\n",
      "0     31.33    -111.06  250.239242               394.577236\n",
      "1     31.33    -111.02  249.333163               393.148531\n",
      "2     31.33    -110.98  249.846141               393.957395\n",
      "3     31.33    -110.94  248.731045               392.199112\n",
      "4     31.33    -110.90  248.572291               391.948788\n"
     ]
    }
   ],
   "source": [
    "print(df[['latitude', 'longitude', 'ghi_mean', 'estimated_energy_kwh_m2']].head())\n"
   ]
  },
  {
   "cell_type": "code",
   "execution_count": null,
   "id": "39916241",
   "metadata": {},
   "outputs": [],
   "source": []
  }
 ],
 "metadata": {
  "kernelspec": {
   "display_name": "Python 3",
   "language": "python",
   "name": "python3"
  },
  "language_info": {
   "codemirror_mode": {
    "name": "ipython",
    "version": 3
   },
   "file_extension": ".py",
   "mimetype": "text/x-python",
   "name": "python",
   "nbconvert_exporter": "python",
   "pygments_lexer": "ipython3",
   "version": "3.12.0"
  }
 },
 "nbformat": 4,
 "nbformat_minor": 5
}
