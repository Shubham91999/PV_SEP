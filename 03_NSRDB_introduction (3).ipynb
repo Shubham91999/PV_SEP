{
 "cells": [
  {
   "cell_type": "markdown",
   "metadata": {},
   "source": [
    "## NREL National Solar Radiation Database (NSRDB) - HSDS Demo"
   ]
  },
  {
   "cell_type": "markdown",
   "metadata": {},
   "source": [
    "This notebook demonstrates basic usage of the National Renewable Energy Laboratory (NREL) National Solar Radiation Database (NSRDB) data. The data is provided from Amazon Web Services using the HDF Group's Highly Scalable Data Service (HSDS).\n",
    "\n",
    "Please consult the README file for setup instructions prior to running this notebook.\n"
   ]
  },
  {
   "cell_type": "code",
   "execution_count": 92,
   "metadata": {
    "ExecuteTime": {
     "end_time": "2019-02-06T19:48:39.175801Z",
     "start_time": "2019-02-06T19:48:39.034304Z"
    }
   },
   "outputs": [],
   "source": [
    "%matplotlib inline\n",
    "import h5pyd\n",
    "import numpy as np\n",
    "import pandas as pd\n",
    "import matplotlib.pyplot as plt\n",
    "import matplotlib.image as mpimg\n",
    "from scipy.spatial import cKDTree"
   ]
  },
  {
   "cell_type": "markdown",
   "metadata": {},
   "source": [
    "## Basic Usage\n",
    "\n",
    "The NSRDB is provided in annual .h5 files and currently spans 1998-2018.  \n",
    "Each year can be accessed from /nrel/nsrdb/nsrdb_${year}.h5"
   ]
  },
  {
   "cell_type": "code",
   "execution_count": 99,
   "metadata": {
    "ExecuteTime": {
     "end_time": "2019-02-06T18:32:02.178393Z",
     "start_time": "2019-02-06T18:32:01.822243Z"
    }
   },
   "outputs": [],
   "source": [
    "# Open the desired year of nsrdb data\n",
    "# server endpoint, username, password is found via a config file\n",
    "f = h5pyd.File(\"/nrel/nsrdb/conus/nsrdb_conus_2022.h5\")"
   ]
  },
  {
   "cell_type": "code",
   "execution_count": 100,
   "metadata": {
    "ExecuteTime": {
     "end_time": "2019-02-06T18:32:04.318312Z",
     "start_time": "2019-02-06T18:32:03.824155Z"
    }
   },
   "outputs": [
    {
     "data": {
      "text/plain": [
       "['version']"
      ]
     },
     "execution_count": 100,
     "metadata": {},
     "output_type": "execute_result"
    }
   ],
   "source": [
    "list(f.attrs)  # list attributes belonging to the root group"
   ]
  },
  {
   "cell_type": "code",
   "execution_count": 101,
   "metadata": {
    "ExecuteTime": {
     "end_time": "2019-02-06T18:32:09.277364Z",
     "start_time": "2019-02-06T18:32:09.032427Z"
    }
   },
   "outputs": [
    {
     "data": {
      "text/plain": [
       "'4.0.0'"
      ]
     },
     "execution_count": 101,
     "metadata": {},
     "output_type": "execute_result"
    }
   ],
   "source": [
    "f.attrs['version']   # attributes can be used to provide desriptions of the content"
   ]
  },
  {
   "cell_type": "markdown",
   "metadata": {},
   "source": [
    "## Datasets"
   ]
  },
  {
   "cell_type": "code",
   "execution_count": 102,
   "metadata": {
    "ExecuteTime": {
     "end_time": "2019-02-06T18:33:57.735172Z",
     "start_time": "2019-02-06T18:33:57.373693Z"
    }
   },
   "outputs": [
    {
     "name": "stdout",
     "output_type": "stream",
     "text": [
      "/air_temperature (105120, 2842719)\n",
      "/alpha (105120, 2842719)\n",
      "/aod (105120, 2842719)\n",
      "/asymmetry (105120, 2842719)\n",
      "/cld_opd_dcomp (105120, 2842719)\n",
      "/cld_press_acha (105120, 2842719)\n",
      "/cld_reff_dcomp (105120, 2842719)\n",
      "/clearsky_dhi (105120, 2842719)\n",
      "/clearsky_dni (105120, 2842719)\n",
      "/clearsky_ghi (105120, 2842719)\n",
      "/cloud_fill_flag (105120, 2842719)\n",
      "/cloud_type (105120, 2842719)\n",
      "/dew_point (105120, 2842719)\n",
      "/dhi (105120, 2842719)\n",
      "/dni (105120, 2842719)\n",
      "/fill_flag (105120, 2842719)\n",
      "/ghi (105120, 2842719)\n",
      "/meta (2842719,)\n",
      "/ozone (105120, 2842719)\n",
      "/relative_humidity (105120, 2842719)\n",
      "/solar_zenith_angle (105120, 2842719)\n",
      "/ssa (105120, 2842719)\n",
      "/surface_albedo (105120, 2842719)\n",
      "/surface_pressure (105120, 2842719)\n",
      "/time_index (105120,)\n",
      "/total_precipitable_water (105120, 2842719)\n",
      "/wind_direction (105120, 2842719)\n",
      "/wind_speed (105120, 2842719)\n"
     ]
    }
   ],
   "source": [
    "# list the datasets in the file\n",
    "for k in f:\n",
    "    dset = f[k]\n",
    "    print(f\"{dset.name} {dset.shape}\")"
   ]
  },
  {
   "cell_type": "code",
   "execution_count": 103,
   "metadata": {},
   "outputs": [],
   "source": [
    "arizona_lat_lon_df = pd.read_csv(\"arizona_lat_lon.csv\")"
   ]
  },
  {
   "cell_type": "code",
   "execution_count": 111,
   "metadata": {},
   "outputs": [
    {
     "name": "stdout",
     "output_type": "stream",
     "text": [
      "   arizona_index  meta_index  distance\n",
      "0              0      578289  0.014142\n",
      "1              1      581982  0.014142\n",
      "2              2      583229  0.014142\n",
      "3              3      586984  0.014142\n",
      "4              4      588237  0.014142\n"
     ]
    }
   ],
   "source": [
    "import pandas as pd\n",
    "from sklearn.neighbors import KDTree\n",
    "\n",
    "# Load datasets\n",
    "df1 = pd.read_csv(\"arizona_lat_lon.csv\")  # Source dataset\n",
    "df2 = pd.read_csv(\"meta_lat_lon.csv\")     # Target dataset\n",
    "\n",
    "# Build KDTree on meta_lat_lon dataset\n",
    "tree = KDTree(df2[[\"latitude\", \"longitude\"]].values)\n",
    "\n",
    "# Query the nearest neighbor (k=1)\n",
    "distances, indices = tree.query(df1[[\"latitude\", \"longitude\"]].values, k=1)\n",
    "\n",
    "# Create a DataFrame with the results\n",
    "one_to_one_matches = pd.DataFrame({\n",
    "    \"arizona_index\": range(len(df1)),\n",
    "    \"meta_index\": indices.flatten(),\n",
    "    \"distance\": distances.flatten()\n",
    "})\n",
    "\n",
    "# Optional: save to CSV\n",
    "one_to_one_matches.to_csv(\"one_to_one_lat_lon_matches.csv\", index=False)\n",
    "\n",
    "# Print sample matches\n",
    "print(one_to_one_matches.head())\n"
   ]
  },
  {
   "cell_type": "code",
   "execution_count": 112,
   "metadata": {},
   "outputs": [
    {
     "data": {
      "text/plain": [
       "(18081, 3)"
      ]
     },
     "execution_count": 112,
     "metadata": {},
     "output_type": "execute_result"
    }
   ],
   "source": [
    "one_to_one_matches.shape"
   ]
  },
  {
   "cell_type": "code",
   "execution_count": 105,
   "metadata": {},
   "outputs": [
    {
     "data": {
      "text/html": [
       "<div>\n",
       "<style scoped>\n",
       "    .dataframe tbody tr th:only-of-type {\n",
       "        vertical-align: middle;\n",
       "    }\n",
       "\n",
       "    .dataframe tbody tr th {\n",
       "        vertical-align: top;\n",
       "    }\n",
       "\n",
       "    .dataframe thead th {\n",
       "        text-align: right;\n",
       "    }\n",
       "</style>\n",
       "<table border=\"1\" class=\"dataframe\">\n",
       "  <thead>\n",
       "    <tr style=\"text-align: right;\">\n",
       "      <th></th>\n",
       "      <th>latitude</th>\n",
       "      <th>longitude</th>\n",
       "      <th>elevation</th>\n",
       "      <th>timezone</th>\n",
       "      <th>country</th>\n",
       "      <th>state</th>\n",
       "      <th>county</th>\n",
       "      <th>gid_full</th>\n",
       "    </tr>\n",
       "  </thead>\n",
       "  <tbody>\n",
       "    <tr>\n",
       "      <th>0</th>\n",
       "      <td>22.100000</td>\n",
       "      <td>-160.429993</td>\n",
       "      <td>0</td>\n",
       "      <td>-10.0</td>\n",
       "      <td>b'nan'</td>\n",
       "      <td>b'nan'</td>\n",
       "      <td>b'nan'</td>\n",
       "      <td>75456</td>\n",
       "    </tr>\n",
       "    <tr>\n",
       "      <th>1</th>\n",
       "      <td>22.080000</td>\n",
       "      <td>-160.429993</td>\n",
       "      <td>0</td>\n",
       "      <td>-10.0</td>\n",
       "      <td>b'nan'</td>\n",
       "      <td>b'nan'</td>\n",
       "      <td>b'nan'</td>\n",
       "      <td>75457</td>\n",
       "    </tr>\n",
       "    <tr>\n",
       "      <th>2</th>\n",
       "      <td>22.059999</td>\n",
       "      <td>-160.429993</td>\n",
       "      <td>0</td>\n",
       "      <td>-10.0</td>\n",
       "      <td>b'nan'</td>\n",
       "      <td>b'nan'</td>\n",
       "      <td>b'nan'</td>\n",
       "      <td>75458</td>\n",
       "    </tr>\n",
       "    <tr>\n",
       "      <th>3</th>\n",
       "      <td>22.040001</td>\n",
       "      <td>-160.429993</td>\n",
       "      <td>0</td>\n",
       "      <td>-10.0</td>\n",
       "      <td>b'nan'</td>\n",
       "      <td>b'nan'</td>\n",
       "      <td>b'nan'</td>\n",
       "      <td>75459</td>\n",
       "    </tr>\n",
       "    <tr>\n",
       "      <th>4</th>\n",
       "      <td>22.020000</td>\n",
       "      <td>-160.429993</td>\n",
       "      <td>0</td>\n",
       "      <td>-10.0</td>\n",
       "      <td>b'nan'</td>\n",
       "      <td>b'nan'</td>\n",
       "      <td>b'nan'</td>\n",
       "      <td>75460</td>\n",
       "    </tr>\n",
       "  </tbody>\n",
       "</table>\n",
       "</div>"
      ],
      "text/plain": [
       "    latitude   longitude  elevation  timezone country   state  county  \\\n",
       "0  22.100000 -160.429993          0     -10.0  b'nan'  b'nan'  b'nan'   \n",
       "1  22.080000 -160.429993          0     -10.0  b'nan'  b'nan'  b'nan'   \n",
       "2  22.059999 -160.429993          0     -10.0  b'nan'  b'nan'  b'nan'   \n",
       "3  22.040001 -160.429993          0     -10.0  b'nan'  b'nan'  b'nan'   \n",
       "4  22.020000 -160.429993          0     -10.0  b'nan'  b'nan'  b'nan'   \n",
       "\n",
       "   gid_full  \n",
       "0     75456  \n",
       "1     75457  \n",
       "2     75458  \n",
       "3     75459  \n",
       "4     75460  "
      ]
     },
     "execution_count": 105,
     "metadata": {},
     "output_type": "execute_result"
    }
   ],
   "source": [
    "meta = pd.DataFrame(f['meta'][...])\n",
    "meta.head()"
   ]
  },
  {
   "cell_type": "code",
   "execution_count": 107,
   "metadata": {},
   "outputs": [],
   "source": [
    "meta[['latitude', 'longitude']].to_csv(\"meta_lat_lon.csv\", index=False)"
   ]
  },
  {
   "cell_type": "code",
   "execution_count": null,
   "metadata": {},
   "outputs": [],
   "source": []
  },
  {
   "cell_type": "code",
   "execution_count": 106,
   "metadata": {},
   "outputs": [
    {
     "data": {
      "text/plain": [
       "(2842719, 8)"
      ]
     },
     "execution_count": 106,
     "metadata": {},
     "output_type": "execute_result"
    }
   ],
   "source": [
    "meta.shape"
   ]
  },
  {
   "cell_type": "code",
   "execution_count": 98,
   "metadata": {},
   "outputs": [
    {
     "data": {
      "text/html": [
       "<div>\n",
       "<style scoped>\n",
       "    .dataframe tbody tr th:only-of-type {\n",
       "        vertical-align: middle;\n",
       "    }\n",
       "\n",
       "    .dataframe tbody tr th {\n",
       "        vertical-align: top;\n",
       "    }\n",
       "\n",
       "    .dataframe thead th {\n",
       "        text-align: right;\n",
       "    }\n",
       "</style>\n",
       "<table border=\"1\" class=\"dataframe\">\n",
       "  <thead>\n",
       "    <tr style=\"text-align: right;\">\n",
       "      <th></th>\n",
       "      <th>latitude</th>\n",
       "      <th>longitude</th>\n",
       "      <th>elevation</th>\n",
       "      <th>timezone</th>\n",
       "      <th>country</th>\n",
       "      <th>state</th>\n",
       "      <th>county</th>\n",
       "      <th>urban</th>\n",
       "      <th>population</th>\n",
       "      <th>landcover</th>\n",
       "    </tr>\n",
       "  </thead>\n",
       "  <tbody>\n",
       "    <tr>\n",
       "      <th>61340</th>\n",
       "      <td>31.330000</td>\n",
       "      <td>-111.059998</td>\n",
       "      <td>1482.849976</td>\n",
       "      <td>-7</td>\n",
       "      <td>b'United States'</td>\n",
       "      <td>b'Arizona'</td>\n",
       "      <td>b'Santa Cruz'</td>\n",
       "      <td>b'None'</td>\n",
       "      <td>28</td>\n",
       "      <td>110</td>\n",
       "    </tr>\n",
       "    <tr>\n",
       "      <th>61341</th>\n",
       "      <td>31.330000</td>\n",
       "      <td>-111.019997</td>\n",
       "      <td>1323.449951</td>\n",
       "      <td>-7</td>\n",
       "      <td>b'United States'</td>\n",
       "      <td>b'Arizona'</td>\n",
       "      <td>b'Santa Cruz'</td>\n",
       "      <td>b'None'</td>\n",
       "      <td>137</td>\n",
       "      <td>130</td>\n",
       "    </tr>\n",
       "    <tr>\n",
       "      <th>61342</th>\n",
       "      <td>31.330000</td>\n",
       "      <td>-110.980003</td>\n",
       "      <td>1266.800049</td>\n",
       "      <td>-7</td>\n",
       "      <td>b'United States'</td>\n",
       "      <td>b'Arizona'</td>\n",
       "      <td>b'Santa Cruz'</td>\n",
       "      <td>b'None'</td>\n",
       "      <td>16510</td>\n",
       "      <td>130</td>\n",
       "    </tr>\n",
       "    <tr>\n",
       "      <th>61343</th>\n",
       "      <td>31.330000</td>\n",
       "      <td>-110.940002</td>\n",
       "      <td>1205.050049</td>\n",
       "      <td>-7</td>\n",
       "      <td>b'United States'</td>\n",
       "      <td>b'Arizona'</td>\n",
       "      <td>b'Santa Cruz'</td>\n",
       "      <td>b'Nogales'</td>\n",
       "      <td>35764</td>\n",
       "      <td>130</td>\n",
       "    </tr>\n",
       "    <tr>\n",
       "      <th>61344</th>\n",
       "      <td>31.330000</td>\n",
       "      <td>-110.900002</td>\n",
       "      <td>1220.187500</td>\n",
       "      <td>-7</td>\n",
       "      <td>b'United States'</td>\n",
       "      <td>b'Arizona'</td>\n",
       "      <td>b'Santa Cruz'</td>\n",
       "      <td>b'None'</td>\n",
       "      <td>446</td>\n",
       "      <td>130</td>\n",
       "    </tr>\n",
       "    <tr>\n",
       "      <th>...</th>\n",
       "      <td>...</td>\n",
       "      <td>...</td>\n",
       "      <td>...</td>\n",
       "      <td>...</td>\n",
       "      <td>...</td>\n",
       "      <td>...</td>\n",
       "      <td>...</td>\n",
       "      <td>...</td>\n",
       "      <td>...</td>\n",
       "      <td>...</td>\n",
       "    </tr>\n",
       "    <tr>\n",
       "      <th>113899</th>\n",
       "      <td>36.970001</td>\n",
       "      <td>-109.220001</td>\n",
       "      <td>1583.439941</td>\n",
       "      <td>-7</td>\n",
       "      <td>b'United States'</td>\n",
       "      <td>b'Arizona'</td>\n",
       "      <td>b'Apache'</td>\n",
       "      <td>b'None'</td>\n",
       "      <td>4</td>\n",
       "      <td>130</td>\n",
       "    </tr>\n",
       "    <tr>\n",
       "      <th>113900</th>\n",
       "      <td>36.970001</td>\n",
       "      <td>-109.180000</td>\n",
       "      <td>1594.599976</td>\n",
       "      <td>-7</td>\n",
       "      <td>b'United States'</td>\n",
       "      <td>b'Arizona'</td>\n",
       "      <td>b'Apache'</td>\n",
       "      <td>b'None'</td>\n",
       "      <td>5</td>\n",
       "      <td>130</td>\n",
       "    </tr>\n",
       "    <tr>\n",
       "      <th>113901</th>\n",
       "      <td>36.970001</td>\n",
       "      <td>-109.139999</td>\n",
       "      <td>1538.239990</td>\n",
       "      <td>-7</td>\n",
       "      <td>b'United States'</td>\n",
       "      <td>b'Arizona'</td>\n",
       "      <td>b'Apache'</td>\n",
       "      <td>b'None'</td>\n",
       "      <td>3</td>\n",
       "      <td>130</td>\n",
       "    </tr>\n",
       "    <tr>\n",
       "      <th>113902</th>\n",
       "      <td>36.970001</td>\n",
       "      <td>-109.099998</td>\n",
       "      <td>1485.849976</td>\n",
       "      <td>-7</td>\n",
       "      <td>b'United States'</td>\n",
       "      <td>b'Arizona'</td>\n",
       "      <td>b'Apache'</td>\n",
       "      <td>b'None'</td>\n",
       "      <td>4</td>\n",
       "      <td>130</td>\n",
       "    </tr>\n",
       "    <tr>\n",
       "      <th>113903</th>\n",
       "      <td>36.970001</td>\n",
       "      <td>-109.059998</td>\n",
       "      <td>1493.680054</td>\n",
       "      <td>-7</td>\n",
       "      <td>b'United States'</td>\n",
       "      <td>b'Arizona'</td>\n",
       "      <td>b'Apache'</td>\n",
       "      <td>b'None'</td>\n",
       "      <td>13</td>\n",
       "      <td>130</td>\n",
       "    </tr>\n",
       "  </tbody>\n",
       "</table>\n",
       "<p>18082 rows × 10 columns</p>\n",
       "</div>"
      ],
      "text/plain": [
       "         latitude   longitude    elevation  timezone           country  \\\n",
       "61340   31.330000 -111.059998  1482.849976        -7  b'United States'   \n",
       "61341   31.330000 -111.019997  1323.449951        -7  b'United States'   \n",
       "61342   31.330000 -110.980003  1266.800049        -7  b'United States'   \n",
       "61343   31.330000 -110.940002  1205.050049        -7  b'United States'   \n",
       "61344   31.330000 -110.900002  1220.187500        -7  b'United States'   \n",
       "...           ...         ...          ...       ...               ...   \n",
       "113899  36.970001 -109.220001  1583.439941        -7  b'United States'   \n",
       "113900  36.970001 -109.180000  1594.599976        -7  b'United States'   \n",
       "113901  36.970001 -109.139999  1538.239990        -7  b'United States'   \n",
       "113902  36.970001 -109.099998  1485.849976        -7  b'United States'   \n",
       "113903  36.970001 -109.059998  1493.680054        -7  b'United States'   \n",
       "\n",
       "             state         county       urban  population  landcover  \n",
       "61340   b'Arizona'  b'Santa Cruz'     b'None'          28        110  \n",
       "61341   b'Arizona'  b'Santa Cruz'     b'None'         137        130  \n",
       "61342   b'Arizona'  b'Santa Cruz'     b'None'       16510        130  \n",
       "61343   b'Arizona'  b'Santa Cruz'  b'Nogales'       35764        130  \n",
       "61344   b'Arizona'  b'Santa Cruz'     b'None'         446        130  \n",
       "...            ...            ...         ...         ...        ...  \n",
       "113899  b'Arizona'      b'Apache'     b'None'           4        130  \n",
       "113900  b'Arizona'      b'Apache'     b'None'           5        130  \n",
       "113901  b'Arizona'      b'Apache'     b'None'           3        130  \n",
       "113902  b'Arizona'      b'Apache'     b'None'           4        130  \n",
       "113903  b'Arizona'      b'Apache'     b'None'          13        130  \n",
       "\n",
       "[18082 rows x 10 columns]"
      ]
     },
     "execution_count": 98,
     "metadata": {},
     "output_type": "execute_result"
    }
   ],
   "source": [
    "arizona_data = meta.loc[meta['state'] == b'Arizona']\n",
    "arizona_data"
   ]
  },
  {
   "cell_type": "code",
   "execution_count": 91,
   "metadata": {},
   "outputs": [],
   "source": [
    "# Extract latitude and longitude columns\n",
    "arizona_lat_lon = arizona_data[['latitude', 'longitude']]\n",
    "\n",
    "# Save to a CSV file\n",
    "arizona_lat_lon.to_csv(\"arizona_lat_lon.csv\", index=False)"
   ]
  },
  {
   "cell_type": "code",
   "execution_count": null,
   "metadata": {},
   "outputs": [
    {
     "data": {
      "text/plain": [
       "array([ 61340,  61341,  61342, ..., 113901, 113902, 113903])"
      ]
     },
     "execution_count": 58,
     "metadata": {},
     "output_type": "execute_result"
    }
   ],
   "source": [
    "arizona_indices = arizona_data.index.values\n",
    "arizona_indices"
   ]
  },
  {
   "cell_type": "code",
   "execution_count": null,
   "metadata": {},
   "outputs": [
    {
     "data": {
      "text/plain": [
       "(17568,)"
      ]
     },
     "execution_count": 59,
     "metadata": {},
     "output_type": "execute_result"
    }
   ],
   "source": [
    "ghi_dset = f['ghi']\n",
    "ghi_test = ghi_dset[:, 61340]\n",
    "ghi_test.shape"
   ]
  },
  {
   "cell_type": "code",
   "execution_count": 64,
   "metadata": {},
   "outputs": [
    {
     "data": {
      "text/plain": [
       "(17568,)"
      ]
     },
     "execution_count": 64,
     "metadata": {},
     "output_type": "execute_result"
    }
   ],
   "source": [
    "dni_dset = f['dni']\n",
    "dni_test = dni_dset[:, 61340]\n",
    "dni_test.shape"
   ]
  },
  {
   "cell_type": "code",
   "execution_count": 67,
   "metadata": {},
   "outputs": [
    {
     "data": {
      "text/plain": [
       "(17568,)"
      ]
     },
     "execution_count": 67,
     "metadata": {},
     "output_type": "execute_result"
    }
   ],
   "source": [
    "dhi_dset = f['dhi']\n",
    "dhi_test = dhi_dset[:, 61340]\n",
    "dhi_test.shape"
   ]
  },
  {
   "cell_type": "code",
   "execution_count": 76,
   "metadata": {},
   "outputs": [
    {
     "data": {
      "text/plain": [
       "(17568,)"
      ]
     },
     "execution_count": 76,
     "metadata": {},
     "output_type": "execute_result"
    }
   ],
   "source": [
    "wind_dset = f['wind_speed']\n",
    "wind_test = wind_dset[:, 61340]\n",
    "wind_test.shape"
   ]
  },
  {
   "cell_type": "code",
   "execution_count": 85,
   "metadata": {},
   "outputs": [
    {
     "data": {
      "text/plain": [
       "(17568,)"
      ]
     },
     "execution_count": 85,
     "metadata": {},
     "output_type": "execute_result"
    }
   ],
   "source": [
    "sp_dset = f['surface_pressure']\n",
    "sp_test = sp_dset[:, 61340]\n",
    "sp_test.shape"
   ]
  },
  {
   "cell_type": "code",
   "execution_count": 86,
   "metadata": {},
   "outputs": [],
   "source": [
    "res = []\n",
    "for index in arizona_indices:\n",
    "    sp_test = sp_dset[:, index]\n",
    "    res.append(sp_test.mean(axis=0))\n",
    "\n"
   ]
  },
  {
   "cell_type": "code",
   "execution_count": 87,
   "metadata": {},
   "outputs": [
    {
     "name": "stdout",
     "output_type": "stream",
     "text": [
      "Number of numbers in res: 18082\n"
     ]
    }
   ],
   "source": [
    "print(\"Number of numbers in res:\", len(res))"
   ]
  },
  {
   "cell_type": "code",
   "execution_count": 88,
   "metadata": {},
   "outputs": [
    {
     "name": "stderr",
     "output_type": "stream",
     "text": [
      "/tmp/ipykernel_36836/3060452776.py:1: SettingWithCopyWarning: \n",
      "A value is trying to be set on a copy of a slice from a DataFrame.\n",
      "Try using .loc[row_indexer,col_indexer] = value instead\n",
      "\n",
      "See the caveats in the documentation: https://pandas.pydata.org/pandas-docs/stable/user_guide/indexing.html#returning-a-view-versus-a-copy\n",
      "  arizona_data['sp_mean'] = res\n"
     ]
    },
    {
     "data": {
      "text/html": [
       "<div>\n",
       "<style scoped>\n",
       "    .dataframe tbody tr th:only-of-type {\n",
       "        vertical-align: middle;\n",
       "    }\n",
       "\n",
       "    .dataframe tbody tr th {\n",
       "        vertical-align: top;\n",
       "    }\n",
       "\n",
       "    .dataframe thead th {\n",
       "        text-align: right;\n",
       "    }\n",
       "</style>\n",
       "<table border=\"1\" class=\"dataframe\">\n",
       "  <thead>\n",
       "    <tr style=\"text-align: right;\">\n",
       "      <th></th>\n",
       "      <th>latitude</th>\n",
       "      <th>longitude</th>\n",
       "      <th>elevation</th>\n",
       "      <th>timezone</th>\n",
       "      <th>country</th>\n",
       "      <th>state</th>\n",
       "      <th>county</th>\n",
       "      <th>urban</th>\n",
       "      <th>population</th>\n",
       "      <th>landcover</th>\n",
       "      <th>ghi_mean</th>\n",
       "      <th>dni_mean</th>\n",
       "      <th>dhi_mean</th>\n",
       "      <th>temp_mean</th>\n",
       "      <th>wind_mean</th>\n",
       "      <th>sp_mean</th>\n",
       "    </tr>\n",
       "  </thead>\n",
       "  <tbody>\n",
       "    <tr>\n",
       "      <th>61340</th>\n",
       "      <td>31.33</td>\n",
       "      <td>-111.059998</td>\n",
       "      <td>1482.849976</td>\n",
       "      <td>-7</td>\n",
       "      <td>b'United States'</td>\n",
       "      <td>b'Arizona'</td>\n",
       "      <td>b'Santa Cruz'</td>\n",
       "      <td>b'None'</td>\n",
       "      <td>28</td>\n",
       "      <td>110</td>\n",
       "      <td>250.239242</td>\n",
       "      <td>336.745105</td>\n",
       "      <td>50.936703</td>\n",
       "      <td>169.139117</td>\n",
       "      <td>25.954463</td>\n",
       "      <td>844.668659</td>\n",
       "    </tr>\n",
       "    <tr>\n",
       "      <th>61341</th>\n",
       "      <td>31.33</td>\n",
       "      <td>-111.019997</td>\n",
       "      <td>1323.449951</td>\n",
       "      <td>-7</td>\n",
       "      <td>b'United States'</td>\n",
       "      <td>b'Arizona'</td>\n",
       "      <td>b'Santa Cruz'</td>\n",
       "      <td>b'None'</td>\n",
       "      <td>137</td>\n",
       "      <td>130</td>\n",
       "      <td>249.333163</td>\n",
       "      <td>333.817111</td>\n",
       "      <td>51.304076</td>\n",
       "      <td>184.482582</td>\n",
       "      <td>25.788650</td>\n",
       "      <td>869.616576</td>\n",
       "    </tr>\n",
       "    <tr>\n",
       "      <th>61342</th>\n",
       "      <td>31.33</td>\n",
       "      <td>-110.980003</td>\n",
       "      <td>1266.800049</td>\n",
       "      <td>-7</td>\n",
       "      <td>b'United States'</td>\n",
       "      <td>b'Arizona'</td>\n",
       "      <td>b'Santa Cruz'</td>\n",
       "      <td>b'None'</td>\n",
       "      <td>16510</td>\n",
       "      <td>130</td>\n",
       "      <td>249.846141</td>\n",
       "      <td>334.314265</td>\n",
       "      <td>51.267760</td>\n",
       "      <td>186.072974</td>\n",
       "      <td>25.711009</td>\n",
       "      <td>872.355191</td>\n",
       "    </tr>\n",
       "    <tr>\n",
       "      <th>61343</th>\n",
       "      <td>31.33</td>\n",
       "      <td>-110.940002</td>\n",
       "      <td>1205.050049</td>\n",
       "      <td>-7</td>\n",
       "      <td>b'United States'</td>\n",
       "      <td>b'Arizona'</td>\n",
       "      <td>b'Santa Cruz'</td>\n",
       "      <td>b'Nogales'</td>\n",
       "      <td>35764</td>\n",
       "      <td>130</td>\n",
       "      <td>248.731045</td>\n",
       "      <td>331.032901</td>\n",
       "      <td>52.062955</td>\n",
       "      <td>188.972962</td>\n",
       "      <td>25.473076</td>\n",
       "      <td>877.573201</td>\n",
       "    </tr>\n",
       "    <tr>\n",
       "      <th>61344</th>\n",
       "      <td>31.33</td>\n",
       "      <td>-110.900002</td>\n",
       "      <td>1220.187500</td>\n",
       "      <td>-7</td>\n",
       "      <td>b'United States'</td>\n",
       "      <td>b'Arizona'</td>\n",
       "      <td>b'Santa Cruz'</td>\n",
       "      <td>b'None'</td>\n",
       "      <td>446</td>\n",
       "      <td>130</td>\n",
       "      <td>248.572291</td>\n",
       "      <td>331.077300</td>\n",
       "      <td>51.834984</td>\n",
       "      <td>190.762807</td>\n",
       "      <td>25.395321</td>\n",
       "      <td>880.681182</td>\n",
       "    </tr>\n",
       "  </tbody>\n",
       "</table>\n",
       "</div>"
      ],
      "text/plain": [
       "       latitude   longitude    elevation  timezone           country  \\\n",
       "61340     31.33 -111.059998  1482.849976        -7  b'United States'   \n",
       "61341     31.33 -111.019997  1323.449951        -7  b'United States'   \n",
       "61342     31.33 -110.980003  1266.800049        -7  b'United States'   \n",
       "61343     31.33 -110.940002  1205.050049        -7  b'United States'   \n",
       "61344     31.33 -110.900002  1220.187500        -7  b'United States'   \n",
       "\n",
       "            state         county       urban  population  landcover  \\\n",
       "61340  b'Arizona'  b'Santa Cruz'     b'None'          28        110   \n",
       "61341  b'Arizona'  b'Santa Cruz'     b'None'         137        130   \n",
       "61342  b'Arizona'  b'Santa Cruz'     b'None'       16510        130   \n",
       "61343  b'Arizona'  b'Santa Cruz'  b'Nogales'       35764        130   \n",
       "61344  b'Arizona'  b'Santa Cruz'     b'None'         446        130   \n",
       "\n",
       "         ghi_mean    dni_mean   dhi_mean   temp_mean  wind_mean     sp_mean  \n",
       "61340  250.239242  336.745105  50.936703  169.139117  25.954463  844.668659  \n",
       "61341  249.333163  333.817111  51.304076  184.482582  25.788650  869.616576  \n",
       "61342  249.846141  334.314265  51.267760  186.072974  25.711009  872.355191  \n",
       "61343  248.731045  331.032901  52.062955  188.972962  25.473076  877.573201  \n",
       "61344  248.572291  331.077300  51.834984  190.762807  25.395321  880.681182  "
      ]
     },
     "execution_count": 88,
     "metadata": {},
     "output_type": "execute_result"
    }
   ],
   "source": [
    "arizona_data['sp_mean'] = res\n",
    "arizona_data.head()"
   ]
  },
  {
   "cell_type": "code",
   "execution_count": 89,
   "metadata": {},
   "outputs": [],
   "source": [
    "# Save arizona_data to a CSV file (arizona_data.csv) without the index column\n",
    "arizona_data.to_csv(\"arizona_data2020.csv\", index=False)"
   ]
  },
  {
   "cell_type": "code",
   "execution_count": null,
   "metadata": {},
   "outputs": [
    {
     "ename": "AttributeError",
     "evalue": "'list' object has no attribute 'shape'",
     "output_type": "error",
     "traceback": [
      "\u001b[0;31m---------------------------------------------------------------------------\u001b[0m",
      "\u001b[0;31mAttributeError\u001b[0m                            Traceback (most recent call last)",
      "Cell \u001b[0;32mIn[49], line 1\u001b[0m\n\u001b[0;32m----> 1\u001b[0m \u001b[43mres\u001b[49m\u001b[38;5;241;43m.\u001b[39;49m\u001b[43mshape\u001b[49m\n",
      "\u001b[0;31mAttributeError\u001b[0m: 'list' object has no attribute 'shape'"
     ]
    }
   ],
   "source": []
  },
  {
   "cell_type": "code",
   "execution_count": 41,
   "metadata": {},
   "outputs": [
    {
     "name": "stderr",
     "output_type": "stream",
     "text": [
      "ERROR:root:POST error: 413\n",
      "ERROR:root:POST error - status_code: 413, reason: Request Entity Too Large\n"
     ]
    },
    {
     "ename": "OSError",
     "evalue": "Error retrieving data: None",
     "output_type": "error",
     "traceback": [
      "\u001b[0;31m---------------------------------------------------------------------------\u001b[0m",
      "\u001b[0;31mOSError\u001b[0m                                   Traceback (most recent call last)",
      "File \u001b[0;32m/usr/local/python/3.12.1/lib/python3.12/site-packages/h5pyd/_hl/dataset.py:1200\u001b[0m, in \u001b[0;36mDataset.__getitem__\u001b[0;34m(self, args, new_dtype)\u001b[0m\n\u001b[1;32m   1199\u001b[0m \u001b[38;5;28;01mtry\u001b[39;00m:\n\u001b[0;32m-> 1200\u001b[0m     rsp \u001b[38;5;241m=\u001b[39m \u001b[38;5;28;43mself\u001b[39;49m\u001b[38;5;241;43m.\u001b[39;49m\u001b[43mPOST\u001b[49m\u001b[43m(\u001b[49m\u001b[43mreq\u001b[49m\u001b[43m,\u001b[49m\u001b[43m \u001b[49m\u001b[43mbody\u001b[49m\u001b[38;5;241;43m=\u001b[39;49m\u001b[43mparams\u001b[49m\u001b[43m,\u001b[49m\u001b[43m \u001b[49m\u001b[38;5;28;43mformat\u001b[39;49m\u001b[38;5;241;43m=\u001b[39;49m\u001b[38;5;124;43m\"\u001b[39;49m\u001b[38;5;124;43mbinary\u001b[39;49m\u001b[38;5;124;43m\"\u001b[39;49m\u001b[43m)\u001b[49m\n\u001b[1;32m   1201\u001b[0m \u001b[38;5;28;01mexcept\u001b[39;00m \u001b[38;5;167;01mIOError\u001b[39;00m \u001b[38;5;28;01mas\u001b[39;00m ioe:\n",
      "File \u001b[0;32m/usr/local/python/3.12.1/lib/python3.12/site-packages/h5pyd/_hl/base.py:1043\u001b[0m, in \u001b[0;36mHLObject.POST\u001b[0;34m(self, req, body, params, format)\u001b[0m\n\u001b[1;32m   1042\u001b[0m     \u001b[38;5;28mself\u001b[39m\u001b[38;5;241m.\u001b[39mlog\u001b[38;5;241m.\u001b[39merror(\u001b[38;5;124m\"\u001b[39m\u001b[38;5;124mPOST error - status_code: \u001b[39m\u001b[38;5;132;01m{}\u001b[39;00m\u001b[38;5;124m, reason: \u001b[39m\u001b[38;5;132;01m{}\u001b[39;00m\u001b[38;5;124m\"\u001b[39m\u001b[38;5;241m.\u001b[39mformat(rsp\u001b[38;5;241m.\u001b[39mstatus_code, rsp\u001b[38;5;241m.\u001b[39mreason))\n\u001b[0;32m-> 1043\u001b[0m     \u001b[38;5;28;01mraise\u001b[39;00m \u001b[38;5;167;01mIOError\u001b[39;00m(rsp\u001b[38;5;241m.\u001b[39mreason)\n\u001b[1;32m   1045\u001b[0m \u001b[38;5;28;01mif\u001b[39;00m \u001b[38;5;124m'\u001b[39m\u001b[38;5;124mContent-Type\u001b[39m\u001b[38;5;124m'\u001b[39m \u001b[38;5;129;01min\u001b[39;00m rsp\u001b[38;5;241m.\u001b[39mheaders \u001b[38;5;129;01mand\u001b[39;00m rsp\u001b[38;5;241m.\u001b[39mheaders[\u001b[38;5;124m'\u001b[39m\u001b[38;5;124mContent-Type\u001b[39m\u001b[38;5;124m'\u001b[39m] \u001b[38;5;241m==\u001b[39m \u001b[38;5;124m\"\u001b[39m\u001b[38;5;124mapplication/octet-stream\u001b[39m\u001b[38;5;124m\"\u001b[39m:\n",
      "\u001b[0;31mOSError\u001b[0m: Request Entity Too Large",
      "\nDuring handling of the above exception, another exception occurred:\n",
      "\u001b[0;31mOSError\u001b[0m                                   Traceback (most recent call last)",
      "Cell \u001b[0;32mIn[41], line 8\u001b[0m\n\u001b[1;32m      5\u001b[0m arizona_indices \u001b[38;5;241m=\u001b[39m arizona_data\u001b[38;5;241m.\u001b[39mindex\u001b[38;5;241m.\u001b[39mvalues\n\u001b[1;32m      7\u001b[0m \u001b[38;5;66;03m# Slice the dataset to get only the Arizona coordinates (all 17568 time steps)\u001b[39;00m\n\u001b[0;32m----> 8\u001b[0m ghi_subset \u001b[38;5;241m=\u001b[39m \u001b[43mghi_dset\u001b[49m\u001b[43m[\u001b[49m\u001b[43m:\u001b[49m\u001b[43m,\u001b[49m\u001b[43m \u001b[49m\u001b[43marizona_indices\u001b[49m\u001b[43m]\u001b[49m\n\u001b[1;32m     10\u001b[0m \u001b[38;5;66;03m# Compute the average over time (i.e. across all 17568 rows)\u001b[39;00m\n\u001b[1;32m     11\u001b[0m mean_ghi \u001b[38;5;241m=\u001b[39m ghi_subset\u001b[38;5;241m.\u001b[39mmean(axis\u001b[38;5;241m=\u001b[39m\u001b[38;5;241m0\u001b[39m)\n",
      "File \u001b[0;32m/usr/local/python/3.12.1/lib/python3.12/site-packages/h5pyd/_hl/dataset.py:1203\u001b[0m, in \u001b[0;36mDataset.__getitem__\u001b[0;34m(self, args, new_dtype)\u001b[0m\n\u001b[1;32m   1201\u001b[0m     \u001b[38;5;28;01mexcept\u001b[39;00m \u001b[38;5;167;01mIOError\u001b[39;00m \u001b[38;5;28;01mas\u001b[39;00m ioe:\n\u001b[1;32m   1202\u001b[0m         \u001b[38;5;28mself\u001b[39m\u001b[38;5;241m.\u001b[39mlog\u001b[38;5;241m.\u001b[39minfo(\u001b[38;5;124mf\u001b[39m\u001b[38;5;124m\"\u001b[39m\u001b[38;5;124mgot IOError: \u001b[39m\u001b[38;5;132;01m{\u001b[39;00mioe\u001b[38;5;241m.\u001b[39merrno\u001b[38;5;132;01m}\u001b[39;00m\u001b[38;5;124m\"\u001b[39m)\n\u001b[0;32m-> 1203\u001b[0m         \u001b[38;5;28;01mraise\u001b[39;00m \u001b[38;5;167;01mIOError\u001b[39;00m(\u001b[38;5;124mf\u001b[39m\u001b[38;5;124m\"\u001b[39m\u001b[38;5;124mError retrieving data: \u001b[39m\u001b[38;5;132;01m{\u001b[39;00mioe\u001b[38;5;241m.\u001b[39merrno\u001b[38;5;132;01m}\u001b[39;00m\u001b[38;5;124m\"\u001b[39m)\n\u001b[1;32m   1204\u001b[0m \u001b[38;5;28;01melse\u001b[39;00m:\n\u001b[1;32m   1205\u001b[0m     \u001b[38;5;28;01mtry\u001b[39;00m:\n",
      "\u001b[0;31mOSError\u001b[0m: Error retrieving data: None"
     ]
    }
   ],
   "source": [
    "# Access the 'ghi' dataset from the file (assuming it hasn't been loaded yet)\n",
    "ghi_dset = f['ghi']\n",
    "\n",
    "# Get the indices for Arizona coordinates from the arizona_data DataFrame\n",
    "arizona_indices = arizona_data.index.values\n",
    "\n",
    "# Slice the dataset to get only the Arizona coordinates (all 17568 time steps)\n",
    "ghi_subset = ghi_dset[:, arizona_indices]\n",
    "\n",
    "# Compute the average over time (i.e. across all 17568 rows)\n",
    "mean_ghi = ghi_subset.mean(axis=0)\n",
    "\n",
    "# Unscale the data using the 'psm_scale_factor' attribute\n",
    "mean_ghi_unscaled = mean_ghi / ghi_dset.attrs['psm_scale_factor']\n",
    "\n",
    "print(mean_ghi_unscaled)"
   ]
  },
  {
   "cell_type": "code",
   "execution_count": null,
   "metadata": {},
   "outputs": [],
   "source": []
  },
  {
   "cell_type": "code",
   "execution_count": 33,
   "metadata": {
    "vscode": {
     "languageId": "markdown"
    }
   },
   "outputs": [
    {
     "ename": "SyntaxError",
     "evalue": "unterminated string literal (detected at line 1) (262319085.py, line 1)",
     "output_type": "error",
     "traceback": [
      "\u001b[0;36m  Cell \u001b[0;32mIn[33], line 1\u001b[0;36m\u001b[0m\n\u001b[0;31m    The `dset` variable is an HDF5 dataset with the shape `(17568, 2018392)`. Here's what the dimensions represent:\u001b[0m\n\u001b[0m                                                                                  ^\u001b[0m\n\u001b[0;31mSyntaxError\u001b[0m\u001b[0;31m:\u001b[0m unterminated string literal (detected at line 1)\n"
     ]
    }
   ],
   "source": [
    "The `dset` variable is an HDF5 dataset with the shape `(17568, 2018392)`. Here's what the dimensions represent:\n",
    "\n",
    "1. **17568**: This corresponds to the number of time steps in the dataset. Since the dataset has a temporal resolution of 30 minutes (as inferred from the `time_index`), this represents the total number of 30-minute intervals in a year (365 days × 48 intervals per day = 17568).\n",
    "\n",
    "2. **2018392**: This corresponds to the number of spatial locations in the dataset. Each location is defined by its latitude and longitude coordinates, as stored in the `coords` variable.\n",
    "\n",
    "Thus, the dataset contains irradiance values (or other data) for 2018392 locations over 17568 time steps. Each entry in the dataset represents the value for a specific location at a specific time."
   ]
  },
  {
   "cell_type": "code",
   "execution_count": null,
   "metadata": {
    "vscode": {
     "languageId": "markdown"
    }
   },
   "outputs": [],
   "source": [
    "Give me the data from dset, with temporal resolution of 60 minutes and only for the coordinates in arizona_dataYou"
   ]
  },
  {
   "cell_type": "code",
   "execution_count": null,
   "metadata": {
    "vscode": {
     "languageId": "markdown"
    }
   },
   "outputs": [],
   "source": [
    "# Filter the dataset for Arizona coordinates\n",
    "arizona_indices = arizona_data.index"
   ]
  },
  {
   "cell_type": "code",
   "execution_count": null,
   "metadata": {},
   "outputs": [
    {
     "data": {
      "text/html": [
       "<div>\n",
       "<style scoped>\n",
       "    .dataframe tbody tr th:only-of-type {\n",
       "        vertical-align: middle;\n",
       "    }\n",
       "\n",
       "    .dataframe tbody tr th {\n",
       "        vertical-align: top;\n",
       "    }\n",
       "\n",
       "    .dataframe thead th {\n",
       "        text-align: right;\n",
       "    }\n",
       "</style>\n",
       "<table border=\"1\" class=\"dataframe\">\n",
       "  <thead>\n",
       "    <tr style=\"text-align: right;\">\n",
       "      <th></th>\n",
       "      <th>0</th>\n",
       "    </tr>\n",
       "  </thead>\n",
       "  <tbody>\n",
       "    <tr>\n",
       "      <th>0</th>\n",
       "      <td>b'2020-01-01 00:00:00+00:00'</td>\n",
       "    </tr>\n",
       "    <tr>\n",
       "      <th>1</th>\n",
       "      <td>b'2020-01-01 00:30:00+00:00'</td>\n",
       "    </tr>\n",
       "    <tr>\n",
       "      <th>2</th>\n",
       "      <td>b'2020-01-01 01:00:00+00:00'</td>\n",
       "    </tr>\n",
       "    <tr>\n",
       "      <th>3</th>\n",
       "      <td>b'2020-01-01 01:30:00+00:00'</td>\n",
       "    </tr>\n",
       "    <tr>\n",
       "      <th>4</th>\n",
       "      <td>b'2020-01-01 02:00:00+00:00'</td>\n",
       "    </tr>\n",
       "    <tr>\n",
       "      <th>...</th>\n",
       "      <td>...</td>\n",
       "    </tr>\n",
       "    <tr>\n",
       "      <th>17563</th>\n",
       "      <td>b'2020-12-31 21:30:00+00:00'</td>\n",
       "    </tr>\n",
       "    <tr>\n",
       "      <th>17564</th>\n",
       "      <td>b'2020-12-31 22:00:00+00:00'</td>\n",
       "    </tr>\n",
       "    <tr>\n",
       "      <th>17565</th>\n",
       "      <td>b'2020-12-31 22:30:00+00:00'</td>\n",
       "    </tr>\n",
       "    <tr>\n",
       "      <th>17566</th>\n",
       "      <td>b'2020-12-31 23:00:00+00:00'</td>\n",
       "    </tr>\n",
       "    <tr>\n",
       "      <th>17567</th>\n",
       "      <td>b'2020-12-31 23:30:00+00:00'</td>\n",
       "    </tr>\n",
       "  </tbody>\n",
       "</table>\n",
       "<p>17568 rows × 1 columns</p>\n",
       "</div>"
      ],
      "text/plain": [
       "                                  0\n",
       "0      b'2020-01-01 00:00:00+00:00'\n",
       "1      b'2020-01-01 00:30:00+00:00'\n",
       "2      b'2020-01-01 01:00:00+00:00'\n",
       "3      b'2020-01-01 01:30:00+00:00'\n",
       "4      b'2020-01-01 02:00:00+00:00'\n",
       "...                             ...\n",
       "17563  b'2020-12-31 21:30:00+00:00'\n",
       "17564  b'2020-12-31 22:00:00+00:00'\n",
       "17565  b'2020-12-31 22:30:00+00:00'\n",
       "17566  b'2020-12-31 23:00:00+00:00'\n",
       "17567  b'2020-12-31 23:30:00+00:00'\n",
       "\n",
       "[17568 rows x 1 columns]"
      ]
     },
     "execution_count": 8,
     "metadata": {},
     "output_type": "execute_result"
    }
   ],
   "source": [
    "#meta = pd.DataFrame(f['meta'][...])\n",
    "\n",
    "datedate = pd.DataFrame(f['time_index'])\n",
    "\n",
    "datedate"
   ]
  },
  {
   "cell_type": "code",
   "execution_count": null,
   "metadata": {},
   "outputs": [
    {
     "data": {
      "text/html": [
       "<div>\n",
       "<style scoped>\n",
       "    .dataframe tbody tr th:only-of-type {\n",
       "        vertical-align: middle;\n",
       "    }\n",
       "\n",
       "    .dataframe tbody tr th {\n",
       "        vertical-align: top;\n",
       "    }\n",
       "\n",
       "    .dataframe thead th {\n",
       "        text-align: right;\n",
       "    }\n",
       "</style>\n",
       "<table border=\"1\" class=\"dataframe\">\n",
       "  <thead>\n",
       "    <tr style=\"text-align: right;\">\n",
       "      <th></th>\n",
       "      <th>0</th>\n",
       "    </tr>\n",
       "  </thead>\n",
       "  <tbody>\n",
       "    <tr>\n",
       "      <th>0</th>\n",
       "      <td>b'2020-01-01 00:00:00+00:00'</td>\n",
       "    </tr>\n",
       "    <tr>\n",
       "      <th>2</th>\n",
       "      <td>b'2020-01-01 01:00:00+00:00'</td>\n",
       "    </tr>\n",
       "    <tr>\n",
       "      <th>4</th>\n",
       "      <td>b'2020-01-01 02:00:00+00:00'</td>\n",
       "    </tr>\n",
       "    <tr>\n",
       "      <th>6</th>\n",
       "      <td>b'2020-01-01 03:00:00+00:00'</td>\n",
       "    </tr>\n",
       "    <tr>\n",
       "      <th>8</th>\n",
       "      <td>b'2020-01-01 04:00:00+00:00'</td>\n",
       "    </tr>\n",
       "    <tr>\n",
       "      <th>...</th>\n",
       "      <td>...</td>\n",
       "    </tr>\n",
       "    <tr>\n",
       "      <th>17558</th>\n",
       "      <td>b'2020-12-31 19:00:00+00:00'</td>\n",
       "    </tr>\n",
       "    <tr>\n",
       "      <th>17560</th>\n",
       "      <td>b'2020-12-31 20:00:00+00:00'</td>\n",
       "    </tr>\n",
       "    <tr>\n",
       "      <th>17562</th>\n",
       "      <td>b'2020-12-31 21:00:00+00:00'</td>\n",
       "    </tr>\n",
       "    <tr>\n",
       "      <th>17564</th>\n",
       "      <td>b'2020-12-31 22:00:00+00:00'</td>\n",
       "    </tr>\n",
       "    <tr>\n",
       "      <th>17566</th>\n",
       "      <td>b'2020-12-31 23:00:00+00:00'</td>\n",
       "    </tr>\n",
       "  </tbody>\n",
       "</table>\n",
       "<p>8784 rows × 1 columns</p>\n",
       "</div>"
      ],
      "text/plain": [
       "                                  0\n",
       "0      b'2020-01-01 00:00:00+00:00'\n",
       "2      b'2020-01-01 01:00:00+00:00'\n",
       "4      b'2020-01-01 02:00:00+00:00'\n",
       "6      b'2020-01-01 03:00:00+00:00'\n",
       "8      b'2020-01-01 04:00:00+00:00'\n",
       "...                             ...\n",
       "17558  b'2020-12-31 19:00:00+00:00'\n",
       "17560  b'2020-12-31 20:00:00+00:00'\n",
       "17562  b'2020-12-31 21:00:00+00:00'\n",
       "17564  b'2020-12-31 22:00:00+00:00'\n",
       "17566  b'2020-12-31 23:00:00+00:00'\n",
       "\n",
       "[8784 rows x 1 columns]"
      ]
     },
     "execution_count": 9,
     "metadata": {},
     "output_type": "execute_result"
    }
   ],
   "source": [
    "time_index_hourly = datedate[::2]\n",
    "time_index_hourly\n",
    "# time_index_hourly.shape"
   ]
  },
  {
   "cell_type": "code",
   "execution_count": null,
   "metadata": {
    "ExecuteTime": {
     "end_time": "2019-02-06T18:45:17.972025Z",
     "start_time": "2019-02-06T18:45:17.286944Z"
    }
   },
   "outputs": [
    {
     "data": {
      "text/plain": [
       "DatetimeIndex(['2020-01-01 00:00:00+00:00', '2020-01-01 00:30:00+00:00',\n",
       "               '2020-01-01 01:00:00+00:00', '2020-01-01 01:30:00+00:00',\n",
       "               '2020-01-01 02:00:00+00:00', '2020-01-01 02:30:00+00:00',\n",
       "               '2020-01-01 03:00:00+00:00', '2020-01-01 03:30:00+00:00',\n",
       "               '2020-01-01 04:00:00+00:00', '2020-01-01 04:30:00+00:00',\n",
       "               ...\n",
       "               '2020-12-31 19:00:00+00:00', '2020-12-31 19:30:00+00:00',\n",
       "               '2020-12-31 20:00:00+00:00', '2020-12-31 20:30:00+00:00',\n",
       "               '2020-12-31 21:00:00+00:00', '2020-12-31 21:30:00+00:00',\n",
       "               '2020-12-31 22:00:00+00:00', '2020-12-31 22:30:00+00:00',\n",
       "               '2020-12-31 23:00:00+00:00', '2020-12-31 23:30:00+00:00'],\n",
       "              dtype='datetime64[ns, UTC]', length=17568, freq=None)"
      ]
     },
     "execution_count": 10,
     "metadata": {},
     "output_type": "execute_result"
    }
   ],
   "source": [
    "# Extract datetime index for datasets\n",
    "time_index = pd.to_datetime(f['time_index'][...].astype(str))\n",
    "time_index # Temporal resolution is 30min"
   ]
  },
  {
   "cell_type": "code",
   "execution_count": null,
   "metadata": {},
   "outputs": [
    {
     "data": {
      "text/plain": [
       "(8784,)"
      ]
     },
     "execution_count": 11,
     "metadata": {},
     "output_type": "execute_result"
    }
   ],
   "source": [
    "time_index_hourly = time_index[::2]\n",
    "time_index_hourly\n",
    "time_index_hourly.shape\n"
   ]
  },
  {
   "cell_type": "code",
   "execution_count": null,
   "metadata": {},
   "outputs": [
    {
     "data": {
      "text/plain": [
       "(17568,)"
      ]
     },
     "execution_count": 12,
     "metadata": {},
     "output_type": "execute_result"
    }
   ],
   "source": [
    "time_index.shape"
   ]
  },
  {
   "cell_type": "code",
   "execution_count": null,
   "metadata": {
    "ExecuteTime": {
     "end_time": "2019-02-06T18:46:51.882658Z",
     "start_time": "2019-02-06T18:46:06.078162Z"
    }
   },
   "outputs": [
    {
     "data": {
      "text/html": [
       "<div>\n",
       "<style scoped>\n",
       "    .dataframe tbody tr th:only-of-type {\n",
       "        vertical-align: middle;\n",
       "    }\n",
       "\n",
       "    .dataframe tbody tr th {\n",
       "        vertical-align: top;\n",
       "    }\n",
       "\n",
       "    .dataframe thead th {\n",
       "        text-align: right;\n",
       "    }\n",
       "</style>\n",
       "<table border=\"1\" class=\"dataframe\">\n",
       "  <thead>\n",
       "    <tr style=\"text-align: right;\">\n",
       "      <th></th>\n",
       "      <th>latitude</th>\n",
       "      <th>longitude</th>\n",
       "      <th>elevation</th>\n",
       "      <th>timezone</th>\n",
       "      <th>country</th>\n",
       "      <th>state</th>\n",
       "      <th>county</th>\n",
       "      <th>urban</th>\n",
       "      <th>population</th>\n",
       "      <th>landcover</th>\n",
       "    </tr>\n",
       "  </thead>\n",
       "  <tbody>\n",
       "    <tr>\n",
       "      <th>0</th>\n",
       "      <td>-19.99</td>\n",
       "      <td>-175.259995</td>\n",
       "      <td>0.0</td>\n",
       "      <td>13</td>\n",
       "      <td>b'None'</td>\n",
       "      <td>b'None'</td>\n",
       "      <td>b'None'</td>\n",
       "      <td>b'None'</td>\n",
       "      <td>-9999</td>\n",
       "      <td>210</td>\n",
       "    </tr>\n",
       "    <tr>\n",
       "      <th>1</th>\n",
       "      <td>-19.99</td>\n",
       "      <td>-175.220001</td>\n",
       "      <td>0.0</td>\n",
       "      <td>13</td>\n",
       "      <td>b'None'</td>\n",
       "      <td>b'None'</td>\n",
       "      <td>b'None'</td>\n",
       "      <td>b'None'</td>\n",
       "      <td>-9999</td>\n",
       "      <td>210</td>\n",
       "    </tr>\n",
       "    <tr>\n",
       "      <th>2</th>\n",
       "      <td>-19.99</td>\n",
       "      <td>-175.179993</td>\n",
       "      <td>0.0</td>\n",
       "      <td>13</td>\n",
       "      <td>b'None'</td>\n",
       "      <td>b'None'</td>\n",
       "      <td>b'None'</td>\n",
       "      <td>b'None'</td>\n",
       "      <td>-9999</td>\n",
       "      <td>210</td>\n",
       "    </tr>\n",
       "    <tr>\n",
       "      <th>3</th>\n",
       "      <td>-19.99</td>\n",
       "      <td>-175.139999</td>\n",
       "      <td>0.0</td>\n",
       "      <td>13</td>\n",
       "      <td>b'None'</td>\n",
       "      <td>b'None'</td>\n",
       "      <td>b'None'</td>\n",
       "      <td>b'None'</td>\n",
       "      <td>-9999</td>\n",
       "      <td>210</td>\n",
       "    </tr>\n",
       "    <tr>\n",
       "      <th>4</th>\n",
       "      <td>-19.99</td>\n",
       "      <td>-175.100006</td>\n",
       "      <td>0.0</td>\n",
       "      <td>13</td>\n",
       "      <td>b'None'</td>\n",
       "      <td>b'None'</td>\n",
       "      <td>b'None'</td>\n",
       "      <td>b'None'</td>\n",
       "      <td>-9999</td>\n",
       "      <td>210</td>\n",
       "    </tr>\n",
       "  </tbody>\n",
       "</table>\n",
       "</div>"
      ],
      "text/plain": [
       "   latitude   longitude  elevation  timezone  country    state   county  \\\n",
       "0    -19.99 -175.259995        0.0        13  b'None'  b'None'  b'None'   \n",
       "1    -19.99 -175.220001        0.0        13  b'None'  b'None'  b'None'   \n",
       "2    -19.99 -175.179993        0.0        13  b'None'  b'None'  b'None'   \n",
       "3    -19.99 -175.139999        0.0        13  b'None'  b'None'  b'None'   \n",
       "4    -19.99 -175.100006        0.0        13  b'None'  b'None'  b'None'   \n",
       "\n",
       "     urban  population  landcover  \n",
       "0  b'None'       -9999        210  \n",
       "1  b'None'       -9999        210  \n",
       "2  b'None'       -9999        210  \n",
       "3  b'None'       -9999        210  \n",
       "4  b'None'       -9999        210  "
      ]
     },
     "execution_count": 13,
     "metadata": {},
     "output_type": "execute_result"
    }
   ],
   "source": [
    "# Locational information is stored in either 'meta' or 'coordinates'\n",
    "meta = pd.DataFrame(f['meta'][...])\n",
    "meta.head()"
   ]
  },
  {
   "cell_type": "code",
   "execution_count": null,
   "metadata": {},
   "outputs": [
    {
     "data": {
      "text/html": [
       "<div>\n",
       "<style scoped>\n",
       "    .dataframe tbody tr th:only-of-type {\n",
       "        vertical-align: middle;\n",
       "    }\n",
       "\n",
       "    .dataframe tbody tr th {\n",
       "        vertical-align: top;\n",
       "    }\n",
       "\n",
       "    .dataframe thead th {\n",
       "        text-align: right;\n",
       "    }\n",
       "</style>\n",
       "<table border=\"1\" class=\"dataframe\">\n",
       "  <thead>\n",
       "    <tr style=\"text-align: right;\">\n",
       "      <th></th>\n",
       "      <th>latitude</th>\n",
       "      <th>longitude</th>\n",
       "      <th>elevation</th>\n",
       "      <th>timezone</th>\n",
       "      <th>country</th>\n",
       "      <th>state</th>\n",
       "      <th>county</th>\n",
       "      <th>urban</th>\n",
       "      <th>population</th>\n",
       "      <th>landcover</th>\n",
       "    </tr>\n",
       "  </thead>\n",
       "  <tbody>\n",
       "    <tr>\n",
       "      <th>61340</th>\n",
       "      <td>31.330000</td>\n",
       "      <td>-111.059998</td>\n",
       "      <td>1482.849976</td>\n",
       "      <td>-7</td>\n",
       "      <td>b'United States'</td>\n",
       "      <td>b'Arizona'</td>\n",
       "      <td>b'Santa Cruz'</td>\n",
       "      <td>b'None'</td>\n",
       "      <td>28</td>\n",
       "      <td>110</td>\n",
       "    </tr>\n",
       "    <tr>\n",
       "      <th>61341</th>\n",
       "      <td>31.330000</td>\n",
       "      <td>-111.019997</td>\n",
       "      <td>1323.449951</td>\n",
       "      <td>-7</td>\n",
       "      <td>b'United States'</td>\n",
       "      <td>b'Arizona'</td>\n",
       "      <td>b'Santa Cruz'</td>\n",
       "      <td>b'None'</td>\n",
       "      <td>137</td>\n",
       "      <td>130</td>\n",
       "    </tr>\n",
       "    <tr>\n",
       "      <th>61342</th>\n",
       "      <td>31.330000</td>\n",
       "      <td>-110.980003</td>\n",
       "      <td>1266.800049</td>\n",
       "      <td>-7</td>\n",
       "      <td>b'United States'</td>\n",
       "      <td>b'Arizona'</td>\n",
       "      <td>b'Santa Cruz'</td>\n",
       "      <td>b'None'</td>\n",
       "      <td>16510</td>\n",
       "      <td>130</td>\n",
       "    </tr>\n",
       "    <tr>\n",
       "      <th>61343</th>\n",
       "      <td>31.330000</td>\n",
       "      <td>-110.940002</td>\n",
       "      <td>1205.050049</td>\n",
       "      <td>-7</td>\n",
       "      <td>b'United States'</td>\n",
       "      <td>b'Arizona'</td>\n",
       "      <td>b'Santa Cruz'</td>\n",
       "      <td>b'Nogales'</td>\n",
       "      <td>35764</td>\n",
       "      <td>130</td>\n",
       "    </tr>\n",
       "    <tr>\n",
       "      <th>61344</th>\n",
       "      <td>31.330000</td>\n",
       "      <td>-110.900002</td>\n",
       "      <td>1220.187500</td>\n",
       "      <td>-7</td>\n",
       "      <td>b'United States'</td>\n",
       "      <td>b'Arizona'</td>\n",
       "      <td>b'Santa Cruz'</td>\n",
       "      <td>b'None'</td>\n",
       "      <td>446</td>\n",
       "      <td>130</td>\n",
       "    </tr>\n",
       "    <tr>\n",
       "      <th>...</th>\n",
       "      <td>...</td>\n",
       "      <td>...</td>\n",
       "      <td>...</td>\n",
       "      <td>...</td>\n",
       "      <td>...</td>\n",
       "      <td>...</td>\n",
       "      <td>...</td>\n",
       "      <td>...</td>\n",
       "      <td>...</td>\n",
       "      <td>...</td>\n",
       "    </tr>\n",
       "    <tr>\n",
       "      <th>113899</th>\n",
       "      <td>36.970001</td>\n",
       "      <td>-109.220001</td>\n",
       "      <td>1583.439941</td>\n",
       "      <td>-7</td>\n",
       "      <td>b'United States'</td>\n",
       "      <td>b'Arizona'</td>\n",
       "      <td>b'Apache'</td>\n",
       "      <td>b'None'</td>\n",
       "      <td>4</td>\n",
       "      <td>130</td>\n",
       "    </tr>\n",
       "    <tr>\n",
       "      <th>113900</th>\n",
       "      <td>36.970001</td>\n",
       "      <td>-109.180000</td>\n",
       "      <td>1594.599976</td>\n",
       "      <td>-7</td>\n",
       "      <td>b'United States'</td>\n",
       "      <td>b'Arizona'</td>\n",
       "      <td>b'Apache'</td>\n",
       "      <td>b'None'</td>\n",
       "      <td>5</td>\n",
       "      <td>130</td>\n",
       "    </tr>\n",
       "    <tr>\n",
       "      <th>113901</th>\n",
       "      <td>36.970001</td>\n",
       "      <td>-109.139999</td>\n",
       "      <td>1538.239990</td>\n",
       "      <td>-7</td>\n",
       "      <td>b'United States'</td>\n",
       "      <td>b'Arizona'</td>\n",
       "      <td>b'Apache'</td>\n",
       "      <td>b'None'</td>\n",
       "      <td>3</td>\n",
       "      <td>130</td>\n",
       "    </tr>\n",
       "    <tr>\n",
       "      <th>113902</th>\n",
       "      <td>36.970001</td>\n",
       "      <td>-109.099998</td>\n",
       "      <td>1485.849976</td>\n",
       "      <td>-7</td>\n",
       "      <td>b'United States'</td>\n",
       "      <td>b'Arizona'</td>\n",
       "      <td>b'Apache'</td>\n",
       "      <td>b'None'</td>\n",
       "      <td>4</td>\n",
       "      <td>130</td>\n",
       "    </tr>\n",
       "    <tr>\n",
       "      <th>113903</th>\n",
       "      <td>36.970001</td>\n",
       "      <td>-109.059998</td>\n",
       "      <td>1493.680054</td>\n",
       "      <td>-7</td>\n",
       "      <td>b'United States'</td>\n",
       "      <td>b'Arizona'</td>\n",
       "      <td>b'Apache'</td>\n",
       "      <td>b'None'</td>\n",
       "      <td>13</td>\n",
       "      <td>130</td>\n",
       "    </tr>\n",
       "  </tbody>\n",
       "</table>\n",
       "<p>18082 rows × 10 columns</p>\n",
       "</div>"
      ],
      "text/plain": [
       "         latitude   longitude    elevation  timezone           country  \\\n",
       "61340   31.330000 -111.059998  1482.849976        -7  b'United States'   \n",
       "61341   31.330000 -111.019997  1323.449951        -7  b'United States'   \n",
       "61342   31.330000 -110.980003  1266.800049        -7  b'United States'   \n",
       "61343   31.330000 -110.940002  1205.050049        -7  b'United States'   \n",
       "61344   31.330000 -110.900002  1220.187500        -7  b'United States'   \n",
       "...           ...         ...          ...       ...               ...   \n",
       "113899  36.970001 -109.220001  1583.439941        -7  b'United States'   \n",
       "113900  36.970001 -109.180000  1594.599976        -7  b'United States'   \n",
       "113901  36.970001 -109.139999  1538.239990        -7  b'United States'   \n",
       "113902  36.970001 -109.099998  1485.849976        -7  b'United States'   \n",
       "113903  36.970001 -109.059998  1493.680054        -7  b'United States'   \n",
       "\n",
       "             state         county       urban  population  landcover  \n",
       "61340   b'Arizona'  b'Santa Cruz'     b'None'          28        110  \n",
       "61341   b'Arizona'  b'Santa Cruz'     b'None'         137        130  \n",
       "61342   b'Arizona'  b'Santa Cruz'     b'None'       16510        130  \n",
       "61343   b'Arizona'  b'Santa Cruz'  b'Nogales'       35764        130  \n",
       "61344   b'Arizona'  b'Santa Cruz'     b'None'         446        130  \n",
       "...            ...            ...         ...         ...        ...  \n",
       "113899  b'Arizona'      b'Apache'     b'None'           4        130  \n",
       "113900  b'Arizona'      b'Apache'     b'None'           5        130  \n",
       "113901  b'Arizona'      b'Apache'     b'None'           3        130  \n",
       "113902  b'Arizona'      b'Apache'     b'None'           4        130  \n",
       "113903  b'Arizona'      b'Apache'     b'None'          13        130  \n",
       "\n",
       "[18082 rows x 10 columns]"
      ]
     },
     "execution_count": 14,
     "metadata": {},
     "output_type": "execute_result"
    }
   ],
   "source": [
    "arizona_data = meta.loc[meta['state'] == b'Arizona']\n",
    "arizona_data"
   ]
  },
  {
   "cell_type": "code",
   "execution_count": null,
   "metadata": {},
   "outputs": [],
   "source": []
  },
  {
   "cell_type": "code",
   "execution_count": null,
   "metadata": {
    "vscode": {
     "languageId": "ruby"
    }
   },
   "outputs": [
    {
     "data": {
      "text/plain": [
       "(1009196,)"
      ]
     },
     "execution_count": 16,
     "metadata": {},
     "output_type": "execute_result"
    }
   ],
   "source": [
    "latitude = meta['latitude'][::2]\n",
    "longitude = meta['longitude'][::2]\n",
    "elevation = meta['elevation'][::2]\n",
    "country = meta['country'][::2]\n",
    "state = meta['state'][::2]\n",
    "county = meta['county'][::2]\n",
    "\n",
    "latitude.shape\n",
    "\n",
    "# latitude, longitude, elevation, country, state, county"
   ]
  },
  {
   "cell_type": "code",
   "execution_count": null,
   "metadata": {
    "vscode": {
     "languageId": "ruby"
    }
   },
   "outputs": [],
   "source": []
  },
  {
   "cell_type": "code",
   "execution_count": null,
   "metadata": {},
   "outputs": [
    {
     "data": {
      "text/plain": [
       "(2018392, 10)"
      ]
     },
     "execution_count": 17,
     "metadata": {},
     "output_type": "execute_result"
    }
   ],
   "source": [
    "meta.shape"
   ]
  },
  {
   "cell_type": "code",
   "execution_count": null,
   "metadata": {
    "ExecuteTime": {
     "end_time": "2019-02-06T18:47:46.899747Z",
     "start_time": "2019-02-06T18:47:46.896662Z"
    }
   },
   "outputs": [
    {
     "data": {
      "text/plain": [
       "dtype('uint16')"
      ]
     },
     "execution_count": 18,
     "metadata": {},
     "output_type": "execute_result"
    }
   ],
   "source": [
    "# ghi dataset have been saved as integers\n",
    "dset.dtype"
   ]
  },
  {
   "cell_type": "code",
   "execution_count": null,
   "metadata": {
    "ExecuteTime": {
     "end_time": "2019-02-06T18:47:51.066179Z",
     "start_time": "2019-02-06T18:47:51.062426Z"
    }
   },
   "outputs": [
    {
     "data": {
      "text/plain": [
       "70.918221312"
      ]
     },
     "execution_count": 19,
     "metadata": {},
     "output_type": "execute_result"
    }
   ],
   "source": [
    "dset.shape[0] * dset.shape[1] * 2 * 10**-9 # 70 GB per dataset!"
   ]
  },
  {
   "cell_type": "code",
   "execution_count": null,
   "metadata": {
    "ExecuteTime": {
     "end_time": "2019-02-06T18:47:57.377851Z",
     "start_time": "2019-02-06T18:47:57.374273Z"
    }
   },
   "outputs": [
    {
     "data": {
      "text/plain": [
       "(2688, 372)"
      ]
     },
     "execution_count": 20,
     "metadata": {},
     "output_type": "execute_result"
    }
   ],
   "source": [
    "dset.chunks # Chunked by week"
   ]
  },
  {
   "cell_type": "code",
   "execution_count": null,
   "metadata": {
    "ExecuteTime": {
     "end_time": "2019-02-06T18:47:58.010112Z",
     "start_time": "2019-02-06T18:47:58.005677Z"
    }
   },
   "outputs": [
    {
     "data": {
      "text/plain": [
       "1.9998719999999999"
      ]
     },
     "execution_count": 21,
     "metadata": {},
     "output_type": "execute_result"
    }
   ],
   "source": [
    "dset.chunks[0] * dset.chunks[1] * 2 * 10**-6 # 2 MB per chunk"
   ]
  },
  {
   "cell_type": "code",
   "execution_count": null,
   "metadata": {
    "ExecuteTime": {
     "end_time": "2019-02-06T18:49:17.786073Z",
     "start_time": "2019-02-06T18:49:17.671184Z"
    }
   },
   "outputs": [
    {
     "data": {
      "text/plain": [
       "1.0"
      ]
     },
     "execution_count": 22,
     "metadata": {},
     "output_type": "execute_result"
    }
   ],
   "source": [
    "# To convert dataset values back to floats use the 'psm_scale_factor'\n",
    "dset.attrs['psm_scale_factor'] # Irradiance values have been truncated to integer precision"
   ]
  },
  {
   "cell_type": "code",
   "execution_count": null,
   "metadata": {
    "ExecuteTime": {
     "end_time": "2019-02-06T18:52:13.089310Z",
     "start_time": "2019-02-06T18:52:12.342907Z"
    }
   },
   "outputs": [
    {
     "name": "stdout",
     "output_type": "stream",
     "text": [
      "wind_speed scale factor =  10.0\n"
     ]
    },
    {
     "data": {
      "text/plain": [
       "9.7"
      ]
     },
     "execution_count": 23,
     "metadata": {},
     "output_type": "execute_result"
    }
   ],
   "source": [
    "# wind speed on the other hand has single decimal percision when scaled by 10\n",
    "scale_factor = f['wind_speed'].attrs['psm_scale_factor']\n",
    "#. units = f['wind_speed'].attrs['psm_units']. # tbd - this attribute doesn't exist\n",
    "print('wind_speed scale factor = ', scale_factor)\n",
    "# print('wind_speed units after unscaling = ', units)\n",
    "f['wind_speed'][0, 0] / scale_factor # divide by scale_factor to return native value"
   ]
  },
  {
   "cell_type": "markdown",
   "metadata": {},
   "source": [
    "## Time-slicing"
   ]
  },
  {
   "cell_type": "markdown",
   "metadata": {},
   "source": [
    "Get the time_index from the server and convert to a pandas DatetimeIndex for convenience:"
   ]
  },
  {
   "cell_type": "code",
   "execution_count": null,
   "metadata": {
    "ExecuteTime": {
     "end_time": "2019-02-06T18:57:48.925869Z",
     "start_time": "2019-02-06T18:57:47.990623Z"
    }
   },
   "outputs": [
    {
     "data": {
      "text/plain": [
       "DatetimeIndex(['2020-01-01 00:00:00+00:00', '2020-01-01 00:30:00+00:00',\n",
       "               '2020-01-01 01:00:00+00:00', '2020-01-01 01:30:00+00:00',\n",
       "               '2020-01-01 02:00:00+00:00', '2020-01-01 02:30:00+00:00',\n",
       "               '2020-01-01 03:00:00+00:00', '2020-01-01 03:30:00+00:00',\n",
       "               '2020-01-01 04:00:00+00:00', '2020-01-01 04:30:00+00:00',\n",
       "               ...\n",
       "               '2020-12-31 19:00:00+00:00', '2020-12-31 19:30:00+00:00',\n",
       "               '2020-12-31 20:00:00+00:00', '2020-12-31 20:30:00+00:00',\n",
       "               '2020-12-31 21:00:00+00:00', '2020-12-31 21:30:00+00:00',\n",
       "               '2020-12-31 22:00:00+00:00', '2020-12-31 22:30:00+00:00',\n",
       "               '2020-12-31 23:00:00+00:00', '2020-12-31 23:30:00+00:00'],\n",
       "              dtype='datetime64[ns, UTC]', length=17568, freq=None)"
      ]
     },
     "execution_count": 24,
     "metadata": {},
     "output_type": "execute_result"
    }
   ],
   "source": [
    "time_index = pd.to_datetime(f['time_index'][...].astype(str))\n",
    "time_index"
   ]
  },
  {
   "cell_type": "markdown",
   "metadata": {},
   "source": [
    "Extract indexes for a particular span of time:"
   ]
  },
  {
   "cell_type": "code",
   "execution_count": null,
   "metadata": {
    "ExecuteTime": {
     "end_time": "2019-02-06T19:00:14.646068Z",
     "start_time": "2019-02-06T19:00:14.641059Z"
    }
   },
   "outputs": [
    {
     "data": {
      "text/plain": [
       "array([2880, 2881, 2882, ..., 4365, 4366, 4367])"
      ]
     },
     "execution_count": 25,
     "metadata": {},
     "output_type": "execute_result"
    }
   ],
   "source": [
    "march = time_index.month == 3\n",
    "np.where(march)[0]"
   ]
  },
  {
   "cell_type": "markdown",
   "metadata": {},
   "source": [
    "Or a particular date:"
   ]
  },
  {
   "cell_type": "code",
   "execution_count": null,
   "metadata": {
    "ExecuteTime": {
     "end_time": "2019-02-06T19:16:18.978254Z",
     "start_time": "2019-02-06T19:16:18.973874Z"
    }
   },
   "outputs": [
    {
     "data": {
      "text/plain": [
       "8880"
      ]
     },
     "execution_count": 26,
     "metadata": {},
     "output_type": "execute_result"
    }
   ],
   "source": [
    "timestep = np.where(time_index == '2020-07-04 00:00:00')[0][0]\n",
    "timestep"
   ]
  },
  {
   "cell_type": "markdown",
   "metadata": {},
   "source": [
    "## Map Data"
   ]
  },
  {
   "cell_type": "code",
   "execution_count": null,
   "metadata": {
    "ExecuteTime": {
     "end_time": "2019-02-06T19:16:28.086246Z",
     "start_time": "2019-02-06T19:16:24.814153Z"
    }
   },
   "outputs": [
    {
     "name": "stdout",
     "output_type": "stream",
     "text": [
      "{'description': '(latitude, longitude)'}\n"
     ]
    }
   ],
   "source": [
    "# Extract coordinates (lat, lon)\n",
    "print(dict(f['coordinates'].attrs))\n",
    "coords = f['coordinates'][...]"
   ]
  },
  {
   "cell_type": "code",
   "execution_count": null,
   "metadata": {},
   "outputs": [
    {
     "data": {
      "text/plain": [
       "array([789, 675, 398, ...,   0,   0,   0], dtype=uint16)"
      ]
     },
     "execution_count": 28,
     "metadata": {},
     "output_type": "execute_result"
    }
   ],
   "source": [
    "f['ghi'][0]"
   ]
  },
  {
   "cell_type": "code",
   "execution_count": null,
   "metadata": {
    "ExecuteTime": {
     "end_time": "2019-02-06T19:30:40.930339Z",
     "start_time": "2019-02-06T19:30:37.902430Z"
    }
   },
   "outputs": [
    {
     "name": "stdout",
     "output_type": "stream",
     "text": [
      "CPU times: user 5.74 ms, sys: 751 μs, total: 6.49 ms\n",
      "Wall time: 1min 59s\n"
     ]
    }
   ],
   "source": [
    "dset = f['ghi']\n",
    "%time data = dset[timestep, ::10]   # extract every 10th location at a particular time\n",
    "df = pd.DataFrame() # Combine data with coordinates in a DataFrame\n",
    "df['longitude'] = coords[::10, 1]\n",
    "df['latitude'] = coords[::10, 0]\n",
    "df['ghi'] = data / dset.attrs['psm_scale_factor'] # unscale dataset"
   ]
  },
  {
   "cell_type": "code",
   "execution_count": null,
   "metadata": {
    "vscode": {
     "languageId": "ruby"
    }
   },
   "outputs": [],
   "source": [
    "# Extract DHI and DNI datasets\n",
    "dhi_data = f['dhi'][timestep, ::10]  # Extract every 10th location at the given timestep\n",
    "dni_data = f['dni'][timestep, ::10]  # Extract every 10th location at the given timestep\n",
    "\n",
    "# Scale the datasets using their respective scale factors\n",
    "dhi_scaled = dhi_data / f['dhi'].attrs['psm_scale_factor']\n",
    "dni_scaled = dni_data / f['dni'].attrs['psm_scale_factor']\n",
    "\n",
    "# Add DHI and DNI as new columns to the dataframe\n",
    "df['dhi'] = dhi_scaled\n",
    "df['dni'] = dni_scaled"
   ]
  },
  {
   "cell_type": "code",
   "execution_count": null,
   "metadata": {},
   "outputs": [
    {
     "data": {
      "text/plain": [
       "<bound method NDFrame.head of          longitude   latitude    ghi    dhi    dni\n",
       "0      -175.259995 -19.990000  430.0  326.0  142.0\n",
       "1      -174.860001 -19.990000  667.0  154.0  701.0\n",
       "2      -174.179993 -19.990000  455.0  276.0  245.0\n",
       "3      -158.139999 -19.990000  454.0  189.0  391.0\n",
       "4      -157.740005 -19.990000  325.0  275.0   74.0\n",
       "...            ...        ...    ...    ...    ...\n",
       "201835  179.740005  51.930000    0.0    0.0    0.0\n",
       "201836  179.779999  52.009998    0.0    0.0    0.0\n",
       "201837  179.779999  52.169998    0.0    0.0    0.0\n",
       "201838  179.820007  51.689999    0.0    0.0    0.0\n",
       "201839  179.860001  51.770000    0.0    0.0    0.0\n",
       "\n",
       "[201840 rows x 5 columns]>"
      ]
     },
     "execution_count": 31,
     "metadata": {},
     "output_type": "execute_result"
    }
   ],
   "source": [
    "df.head"
   ]
  },
  {
   "cell_type": "code",
   "execution_count": null,
   "metadata": {
    "ExecuteTime": {
     "end_time": "2019-02-06T19:30:40.935891Z",
     "start_time": "2019-02-06T19:30:40.932229Z"
    }
   },
   "outputs": [
    {
     "data": {
      "text/plain": [
       "(201840, 3)"
      ]
     },
     "execution_count": 29,
     "metadata": {},
     "output_type": "execute_result"
    }
   ],
   "source": [
    "df.shape"
   ]
  },
  {
   "cell_type": "code",
   "execution_count": null,
   "metadata": {
    "ExecuteTime": {
     "end_time": "2019-02-06T19:30:50.703645Z",
     "start_time": "2019-02-06T19:30:44.870411Z"
    }
   },
   "outputs": [
    {
     "data": {
      "image/png": "[encoded data removed]",
      "text/plain": [
       "<Figure size 640x480 with 2 Axes>"
      ]
     },
     "metadata": {},
     "output_type": "display_data"
    }
   ],
   "source": [
    "df.plot.scatter(x='longitude', y='latitude', c='ghi',\n",
    "                colormap='YlOrRd',\n",
    "                title=str(time_index[timestep]))\n",
    "plt.show()"
   ]
  },
  {
   "cell_type": "code",
   "execution_count": null,
   "metadata": {
    "ExecuteTime": {
     "end_time": "2019-02-06T19:38:03.467178Z",
     "start_time": "2019-02-06T19:38:03.343285Z"
    }
   },
   "outputs": [
    {
     "data": {
      "text/html": [
       "<div>\n",
       "<style scoped>\n",
       "    .dataframe tbody tr th:only-of-type {\n",
       "        vertical-align: middle;\n",
       "    }\n",
       "\n",
       "    .dataframe tbody tr th {\n",
       "        vertical-align: top;\n",
       "    }\n",
       "\n",
       "    .dataframe thead th {\n",
       "        text-align: right;\n",
       "    }\n",
       "</style>\n",
       "<table border=\"1\" class=\"dataframe\">\n",
       "  <thead>\n",
       "    <tr style=\"text-align: right;\">\n",
       "      <th></th>\n",
       "      <th>latitude</th>\n",
       "      <th>longitude</th>\n",
       "      <th>elevation</th>\n",
       "      <th>timezone</th>\n",
       "      <th>country</th>\n",
       "      <th>state</th>\n",
       "      <th>county</th>\n",
       "      <th>urban</th>\n",
       "      <th>population</th>\n",
       "      <th>landcover</th>\n",
       "    </tr>\n",
       "  </thead>\n",
       "  <tbody>\n",
       "    <tr>\n",
       "      <th>61340</th>\n",
       "      <td>31.33</td>\n",
       "      <td>-111.059998</td>\n",
       "      <td>1482.849976</td>\n",
       "      <td>-7</td>\n",
       "      <td>b'United States'</td>\n",
       "      <td>b'Arizona'</td>\n",
       "      <td>b'Santa Cruz'</td>\n",
       "      <td>b'None'</td>\n",
       "      <td>28</td>\n",
       "      <td>110</td>\n",
       "    </tr>\n",
       "    <tr>\n",
       "      <th>61341</th>\n",
       "      <td>31.33</td>\n",
       "      <td>-111.019997</td>\n",
       "      <td>1323.449951</td>\n",
       "      <td>-7</td>\n",
       "      <td>b'United States'</td>\n",
       "      <td>b'Arizona'</td>\n",
       "      <td>b'Santa Cruz'</td>\n",
       "      <td>b'None'</td>\n",
       "      <td>137</td>\n",
       "      <td>130</td>\n",
       "    </tr>\n",
       "    <tr>\n",
       "      <th>61342</th>\n",
       "      <td>31.33</td>\n",
       "      <td>-110.980003</td>\n",
       "      <td>1266.800049</td>\n",
       "      <td>-7</td>\n",
       "      <td>b'United States'</td>\n",
       "      <td>b'Arizona'</td>\n",
       "      <td>b'Santa Cruz'</td>\n",
       "      <td>b'None'</td>\n",
       "      <td>16510</td>\n",
       "      <td>130</td>\n",
       "    </tr>\n",
       "    <tr>\n",
       "      <th>61343</th>\n",
       "      <td>31.33</td>\n",
       "      <td>-110.940002</td>\n",
       "      <td>1205.050049</td>\n",
       "      <td>-7</td>\n",
       "      <td>b'United States'</td>\n",
       "      <td>b'Arizona'</td>\n",
       "      <td>b'Santa Cruz'</td>\n",
       "      <td>b'Nogales'</td>\n",
       "      <td>35764</td>\n",
       "      <td>130</td>\n",
       "    </tr>\n",
       "    <tr>\n",
       "      <th>61344</th>\n",
       "      <td>31.33</td>\n",
       "      <td>-110.900002</td>\n",
       "      <td>1220.187500</td>\n",
       "      <td>-7</td>\n",
       "      <td>b'United States'</td>\n",
       "      <td>b'Arizona'</td>\n",
       "      <td>b'Santa Cruz'</td>\n",
       "      <td>b'None'</td>\n",
       "      <td>446</td>\n",
       "      <td>130</td>\n",
       "    </tr>\n",
       "  </tbody>\n",
       "</table>\n",
       "</div>"
      ],
      "text/plain": [
       "       latitude   longitude    elevation  timezone           country  \\\n",
       "61340     31.33 -111.059998  1482.849976        -7  b'United States'   \n",
       "61341     31.33 -111.019997  1323.449951        -7  b'United States'   \n",
       "61342     31.33 -110.980003  1266.800049        -7  b'United States'   \n",
       "61343     31.33 -110.940002  1205.050049        -7  b'United States'   \n",
       "61344     31.33 -110.900002  1220.187500        -7  b'United States'   \n",
       "\n",
       "            state         county       urban  population  landcover  \n",
       "61340  b'Arizona'  b'Santa Cruz'     b'None'          28        110  \n",
       "61341  b'Arizona'  b'Santa Cruz'     b'None'         137        130  \n",
       "61342  b'Arizona'  b'Santa Cruz'     b'None'       16510        130  \n",
       "61343  b'Arizona'  b'Santa Cruz'  b'Nogales'       35764        130  \n",
       "61344  b'Arizona'  b'Santa Cruz'     b'None'         446        130  "
      ]
     },
     "execution_count": 142,
     "metadata": {},
     "output_type": "execute_result"
    }
   ],
   "source": [
    "# Full resolution subset of Colorado\n",
    "meta = pd.DataFrame(f['meta'][...])\n",
    "AZ = meta.loc[meta['state'] == b'Arizona'] # Note .h5 saves strings as bit-strings\n",
    "AZ.head()"
   ]
  },
  {
   "cell_type": "code",
   "execution_count": null,
   "metadata": {
    "ExecuteTime": {
     "end_time": "2019-02-06T19:38:14.050394Z",
     "start_time": "2019-02-06T19:38:09.966272Z"
    }
   },
   "outputs": [
    {
     "name": "stdout",
     "output_type": "stream",
     "text": [
      "CPU times: user 14.1 ms, sys: 3.77 ms, total: 17.9 ms\n",
      "Wall time: 2min\n"
     ]
    },
    {
     "data": {
      "text/plain": [
       "(18082, 3)"
      ]
     },
     "execution_count": 143,
     "metadata": {},
     "output_type": "execute_result"
    }
   ],
   "source": [
    "%time data = dset[timestep][AZ.index]  # full-resolution subset\n",
    "df = AZ[['longitude', 'latitude']].copy()\n",
    "df['ghi'] = data / dset.attrs['psm_scale_factor']\n",
    "df.shape"
   ]
  },
  {
   "cell_type": "code",
   "execution_count": null,
   "metadata": {
    "ExecuteTime": {
     "end_time": "2019-02-06T19:38:16.260753Z",
     "start_time": "2019-02-06T19:38:15.367784Z"
    }
   },
   "outputs": [
    {
     "data": {
      "image/png": "[encoded data removed]",
      "text/plain": [
       "<Figure size 640x480 with 2 Axes>"
      ]
     },
     "metadata": {},
     "output_type": "display_data"
    }
   ],
   "source": [
    "df.plot.scatter(x='longitude', y='latitude', c='ghi',\n",
    "                colormap='YlOrRd',\n",
    "                title=str(time_index[timestep]))\n",
    "plt.show()"
   ]
  },
  {
   "cell_type": "markdown",
   "metadata": {},
   "source": [
    "## Nearest Timeseries for given Lat/Lon"
   ]
  },
  {
   "cell_type": "code",
   "execution_count": null,
   "metadata": {
    "ExecuteTime": {
     "end_time": "2019-02-06T19:52:44.346725Z",
     "start_time": "2019-02-06T19:52:34.038821Z"
    }
   },
   "outputs": [
    {
     "name": "stdout",
     "output_type": "stream",
     "text": [
      "Site index for Phoenix City: \t\t 78206\n",
      "Coordinates of Phoenix City: \t (33.4482, -112.0777)\n",
      "Coordinates of nearest point: \t [  33.45 -112.06]\n"
     ]
    }
   ],
   "source": [
    "# Unlike the gridded WTK data the NSRDB is provided as sparse time-series dataset.\n",
    "# The quickest way to find the nearest site it using a KDtree\n",
    "\n",
    "dset_coords = f['coordinates'][...]\n",
    "tree = cKDTree(dset_coords)\n",
    "def nearest_site(tree, lat_coord, lon_coord):\n",
    "    lat_lon = np.array([lat_coord, lon_coord])\n",
    "    dist, pos = tree.query(lat_lon)\n",
    "    return pos\n",
    "\n",
    "PhoenixCity = (33.4482, -112.0777)\n",
    "PhoenixCity_idx = nearest_site(tree, PhoenixCity[0], PhoenixCity[1] )\n",
    "\n",
    "print(\"Site index for Phoenix City: \\t\\t {}\".format(PhoenixCity_idx))\n",
    "print(\"Coordinates of Phoenix City: \\t {}\".format(PhoenixCity))\n",
    "print(\"Coordinates of nearest point: \\t {}\".format(dset_coords[PhoenixCity_idx]))"
   ]
  },
  {
   "cell_type": "code",
   "execution_count": null,
   "metadata": {
    "ExecuteTime": {
     "end_time": "2019-02-06T19:53:48.160502Z",
     "start_time": "2019-02-06T19:53:46.607119Z"
    }
   },
   "outputs": [
    {
     "name": "stdout",
     "output_type": "stream",
     "text": [
      "CPU times: user 3.54 ms, sys: 163 μs, total: 3.71 ms\n",
      "Wall time: 1.83 s\n"
     ]
    }
   ],
   "source": [
    "# Get the entire 2012 timeseries data for a point in NYC\n",
    "%time tseries = dset[:, PhoenixCity_idx] / dset.attrs['psm_scale_factor']"
   ]
  },
  {
   "cell_type": "code",
   "execution_count": null,
   "metadata": {
    "ExecuteTime": {
     "end_time": "2019-02-06T19:53:48.165562Z",
     "start_time": "2019-02-06T19:53:48.162324Z"
    }
   },
   "outputs": [
    {
     "data": {
      "text/plain": [
       "17568"
      ]
     },
     "execution_count": 147,
     "metadata": {},
     "output_type": "execute_result"
    }
   ],
   "source": [
    "len(tseries)   # 1 years * 365 days * 24 hours * 30 minutes"
   ]
  },
  {
   "cell_type": "code",
   "execution_count": null,
   "metadata": {
    "ExecuteTime": {
     "end_time": "2019-02-06T19:54:20.235635Z",
     "start_time": "2019-02-06T19:54:20.063966Z"
    }
   },
   "outputs": [
    {
     "data": {
      "text/plain": [
       "Text(0.5, 1.0, 'PHX ghi in 2020')"
      ]
     },
     "execution_count": 148,
     "metadata": {},
     "output_type": "execute_result"
    },
    {
     "data": {
      "image/png": "[encoded data removed]",
      "text/plain": [
       "<Figure size 640x480 with 1 Axes>"
      ]
     },
     "metadata": {},
     "output_type": "display_data"
    }
   ],
   "source": [
    "plt.plot(time_index, tseries)\n",
    "plt.ylabel(\"ghi\")\n",
    "plt.title(\"PHX ghi in 2020\")"
   ]
  },
  {
   "cell_type": "markdown",
   "metadata": {},
   "source": [
    "## GHI Statistics"
   ]
  },
  {
   "cell_type": "code",
   "execution_count": null,
   "metadata": {
    "ExecuteTime": {
     "end_time": "2019-02-06T19:58:14.770799Z",
     "start_time": "2019-02-06T19:58:14.726103Z"
    }
   },
   "outputs": [
    {
     "data": {
      "text/html": [
       "<div>\n",
       "<style scoped>\n",
       "    .dataframe tbody tr th:only-of-type {\n",
       "        vertical-align: middle;\n",
       "    }\n",
       "\n",
       "    .dataframe tbody tr th {\n",
       "        vertical-align: top;\n",
       "    }\n",
       "\n",
       "    .dataframe thead th {\n",
       "        text-align: right;\n",
       "    }\n",
       "</style>\n",
       "<table border=\"1\" class=\"dataframe\">\n",
       "  <thead>\n",
       "    <tr style=\"text-align: right;\">\n",
       "      <th>hour</th>\n",
       "      <th>0</th>\n",
       "      <th>1</th>\n",
       "      <th>2</th>\n",
       "      <th>3</th>\n",
       "      <th>4</th>\n",
       "      <th>5</th>\n",
       "      <th>6</th>\n",
       "      <th>7</th>\n",
       "      <th>8</th>\n",
       "      <th>9</th>\n",
       "      <th>...</th>\n",
       "      <th>14</th>\n",
       "      <th>15</th>\n",
       "      <th>16</th>\n",
       "      <th>17</th>\n",
       "      <th>18</th>\n",
       "      <th>19</th>\n",
       "      <th>20</th>\n",
       "      <th>21</th>\n",
       "      <th>22</th>\n",
       "      <th>23</th>\n",
       "    </tr>\n",
       "    <tr>\n",
       "      <th>month</th>\n",
       "      <th></th>\n",
       "      <th></th>\n",
       "      <th></th>\n",
       "      <th></th>\n",
       "      <th></th>\n",
       "      <th></th>\n",
       "      <th></th>\n",
       "      <th></th>\n",
       "      <th></th>\n",
       "      <th></th>\n",
       "      <th></th>\n",
       "      <th></th>\n",
       "      <th></th>\n",
       "      <th></th>\n",
       "      <th></th>\n",
       "      <th></th>\n",
       "      <th></th>\n",
       "      <th></th>\n",
       "      <th></th>\n",
       "      <th></th>\n",
       "      <th></th>\n",
       "    </tr>\n",
       "  </thead>\n",
       "  <tbody>\n",
       "    <tr>\n",
       "      <th>1</th>\n",
       "      <td>54.693548</td>\n",
       "      <td>0.225806</td>\n",
       "      <td>0.000000</td>\n",
       "      <td>0.0</td>\n",
       "      <td>0.0</td>\n",
       "      <td>0.0</td>\n",
       "      <td>0.0</td>\n",
       "      <td>0.0</td>\n",
       "      <td>0.0</td>\n",
       "      <td>0.0</td>\n",
       "      <td>...</td>\n",
       "      <td>2.290323</td>\n",
       "      <td>92.225806</td>\n",
       "      <td>248.161290</td>\n",
       "      <td>385.532258</td>\n",
       "      <td>500.161290</td>\n",
       "      <td>553.241935</td>\n",
       "      <td>545.451613</td>\n",
       "      <td>475.532258</td>\n",
       "      <td>353.629032</td>\n",
       "      <td>213.016129</td>\n",
       "    </tr>\n",
       "    <tr>\n",
       "      <th>2</th>\n",
       "      <td>128.051724</td>\n",
       "      <td>9.534483</td>\n",
       "      <td>0.000000</td>\n",
       "      <td>0.0</td>\n",
       "      <td>0.0</td>\n",
       "      <td>0.0</td>\n",
       "      <td>0.0</td>\n",
       "      <td>0.0</td>\n",
       "      <td>0.0</td>\n",
       "      <td>0.0</td>\n",
       "      <td>...</td>\n",
       "      <td>16.603448</td>\n",
       "      <td>147.431034</td>\n",
       "      <td>323.241379</td>\n",
       "      <td>469.155172</td>\n",
       "      <td>583.793103</td>\n",
       "      <td>657.034483</td>\n",
       "      <td>672.362069</td>\n",
       "      <td>610.793103</td>\n",
       "      <td>495.620690</td>\n",
       "      <td>320.793103</td>\n",
       "    </tr>\n",
       "    <tr>\n",
       "      <th>3</th>\n",
       "      <td>183.112903</td>\n",
       "      <td>40.112903</td>\n",
       "      <td>0.000000</td>\n",
       "      <td>0.0</td>\n",
       "      <td>0.0</td>\n",
       "      <td>0.0</td>\n",
       "      <td>0.0</td>\n",
       "      <td>0.0</td>\n",
       "      <td>0.0</td>\n",
       "      <td>0.0</td>\n",
       "      <td>...</td>\n",
       "      <td>75.064516</td>\n",
       "      <td>239.822581</td>\n",
       "      <td>433.838710</td>\n",
       "      <td>592.822581</td>\n",
       "      <td>715.500000</td>\n",
       "      <td>749.096774</td>\n",
       "      <td>732.048387</td>\n",
       "      <td>665.483871</td>\n",
       "      <td>534.177419</td>\n",
       "      <td>363.645161</td>\n",
       "    </tr>\n",
       "    <tr>\n",
       "      <th>4</th>\n",
       "      <td>310.483333</td>\n",
       "      <td>103.033333</td>\n",
       "      <td>2.750000</td>\n",
       "      <td>0.0</td>\n",
       "      <td>0.0</td>\n",
       "      <td>0.0</td>\n",
       "      <td>0.0</td>\n",
       "      <td>0.0</td>\n",
       "      <td>0.0</td>\n",
       "      <td>0.0</td>\n",
       "      <td>...</td>\n",
       "      <td>203.266667</td>\n",
       "      <td>422.883333</td>\n",
       "      <td>624.950000</td>\n",
       "      <td>797.300000</td>\n",
       "      <td>895.450000</td>\n",
       "      <td>942.683333</td>\n",
       "      <td>913.650000</td>\n",
       "      <td>833.116667</td>\n",
       "      <td>703.650000</td>\n",
       "      <td>519.150000</td>\n",
       "    </tr>\n",
       "    <tr>\n",
       "      <th>5</th>\n",
       "      <td>375.483871</td>\n",
       "      <td>162.822581</td>\n",
       "      <td>18.483871</td>\n",
       "      <td>0.0</td>\n",
       "      <td>0.0</td>\n",
       "      <td>0.0</td>\n",
       "      <td>0.0</td>\n",
       "      <td>0.0</td>\n",
       "      <td>0.0</td>\n",
       "      <td>0.0</td>\n",
       "      <td>...</td>\n",
       "      <td>295.741935</td>\n",
       "      <td>504.548387</td>\n",
       "      <td>693.516129</td>\n",
       "      <td>846.516129</td>\n",
       "      <td>955.500000</td>\n",
       "      <td>1010.629032</td>\n",
       "      <td>989.887097</td>\n",
       "      <td>909.096774</td>\n",
       "      <td>776.661290</td>\n",
       "      <td>593.645161</td>\n",
       "    </tr>\n",
       "    <tr>\n",
       "      <th>6</th>\n",
       "      <td>413.016667</td>\n",
       "      <td>205.566667</td>\n",
       "      <td>41.533333</td>\n",
       "      <td>0.0</td>\n",
       "      <td>0.0</td>\n",
       "      <td>0.0</td>\n",
       "      <td>0.0</td>\n",
       "      <td>0.0</td>\n",
       "      <td>0.0</td>\n",
       "      <td>0.0</td>\n",
       "      <td>...</td>\n",
       "      <td>316.416667</td>\n",
       "      <td>529.716667</td>\n",
       "      <td>717.100000</td>\n",
       "      <td>875.983333</td>\n",
       "      <td>979.033333</td>\n",
       "      <td>1017.250000</td>\n",
       "      <td>1002.550000</td>\n",
       "      <td>918.416667</td>\n",
       "      <td>795.050000</td>\n",
       "      <td>619.400000</td>\n",
       "    </tr>\n",
       "    <tr>\n",
       "      <th>7</th>\n",
       "      <td>402.516129</td>\n",
       "      <td>200.758065</td>\n",
       "      <td>39.596774</td>\n",
       "      <td>0.0</td>\n",
       "      <td>0.0</td>\n",
       "      <td>0.0</td>\n",
       "      <td>0.0</td>\n",
       "      <td>0.0</td>\n",
       "      <td>0.0</td>\n",
       "      <td>0.0</td>\n",
       "      <td>...</td>\n",
       "      <td>253.145161</td>\n",
       "      <td>450.645161</td>\n",
       "      <td>644.064516</td>\n",
       "      <td>788.322581</td>\n",
       "      <td>900.677419</td>\n",
       "      <td>965.225806</td>\n",
       "      <td>935.822581</td>\n",
       "      <td>874.274194</td>\n",
       "      <td>748.000000</td>\n",
       "      <td>585.451613</td>\n",
       "    </tr>\n",
       "    <tr>\n",
       "      <th>8</th>\n",
       "      <td>320.596774</td>\n",
       "      <td>126.000000</td>\n",
       "      <td>10.967742</td>\n",
       "      <td>0.0</td>\n",
       "      <td>0.0</td>\n",
       "      <td>0.0</td>\n",
       "      <td>0.0</td>\n",
       "      <td>0.0</td>\n",
       "      <td>0.0</td>\n",
       "      <td>0.0</td>\n",
       "      <td>...</td>\n",
       "      <td>193.709677</td>\n",
       "      <td>390.145161</td>\n",
       "      <td>589.693548</td>\n",
       "      <td>758.677419</td>\n",
       "      <td>863.903226</td>\n",
       "      <td>919.483871</td>\n",
       "      <td>913.951613</td>\n",
       "      <td>837.564516</td>\n",
       "      <td>710.903226</td>\n",
       "      <td>528.419355</td>\n",
       "    </tr>\n",
       "    <tr>\n",
       "      <th>9</th>\n",
       "      <td>212.583333</td>\n",
       "      <td>40.650000</td>\n",
       "      <td>0.050000</td>\n",
       "      <td>0.0</td>\n",
       "      <td>0.0</td>\n",
       "      <td>0.0</td>\n",
       "      <td>0.0</td>\n",
       "      <td>0.0</td>\n",
       "      <td>0.0</td>\n",
       "      <td>0.0</td>\n",
       "      <td>...</td>\n",
       "      <td>149.283333</td>\n",
       "      <td>350.400000</td>\n",
       "      <td>538.050000</td>\n",
       "      <td>700.583333</td>\n",
       "      <td>819.400000</td>\n",
       "      <td>864.850000</td>\n",
       "      <td>835.883333</td>\n",
       "      <td>745.716667</td>\n",
       "      <td>606.266667</td>\n",
       "      <td>414.933333</td>\n",
       "    </tr>\n",
       "    <tr>\n",
       "      <th>10</th>\n",
       "      <td>90.209677</td>\n",
       "      <td>2.500000</td>\n",
       "      <td>0.000000</td>\n",
       "      <td>0.0</td>\n",
       "      <td>0.0</td>\n",
       "      <td>0.0</td>\n",
       "      <td>0.0</td>\n",
       "      <td>0.0</td>\n",
       "      <td>0.0</td>\n",
       "      <td>0.0</td>\n",
       "      <td>...</td>\n",
       "      <td>90.419355</td>\n",
       "      <td>271.645161</td>\n",
       "      <td>444.387097</td>\n",
       "      <td>599.887097</td>\n",
       "      <td>714.822581</td>\n",
       "      <td>764.709677</td>\n",
       "      <td>722.758065</td>\n",
       "      <td>616.967742</td>\n",
       "      <td>464.483871</td>\n",
       "      <td>275.096774</td>\n",
       "    </tr>\n",
       "    <tr>\n",
       "      <th>11</th>\n",
       "      <td>24.950000</td>\n",
       "      <td>0.000000</td>\n",
       "      <td>0.000000</td>\n",
       "      <td>0.0</td>\n",
       "      <td>0.0</td>\n",
       "      <td>0.0</td>\n",
       "      <td>0.0</td>\n",
       "      <td>0.0</td>\n",
       "      <td>0.0</td>\n",
       "      <td>0.0</td>\n",
       "      <td>...</td>\n",
       "      <td>29.533333</td>\n",
       "      <td>178.500000</td>\n",
       "      <td>341.933333</td>\n",
       "      <td>483.783333</td>\n",
       "      <td>568.716667</td>\n",
       "      <td>586.550000</td>\n",
       "      <td>572.150000</td>\n",
       "      <td>485.450000</td>\n",
       "      <td>336.800000</td>\n",
       "      <td>169.983333</td>\n",
       "    </tr>\n",
       "    <tr>\n",
       "      <th>12</th>\n",
       "      <td>20.032258</td>\n",
       "      <td>0.000000</td>\n",
       "      <td>0.000000</td>\n",
       "      <td>0.0</td>\n",
       "      <td>0.0</td>\n",
       "      <td>0.0</td>\n",
       "      <td>0.0</td>\n",
       "      <td>0.0</td>\n",
       "      <td>0.0</td>\n",
       "      <td>0.0</td>\n",
       "      <td>...</td>\n",
       "      <td>5.516129</td>\n",
       "      <td>106.370968</td>\n",
       "      <td>255.370968</td>\n",
       "      <td>391.451613</td>\n",
       "      <td>502.258065</td>\n",
       "      <td>546.564516</td>\n",
       "      <td>522.354839</td>\n",
       "      <td>435.435484</td>\n",
       "      <td>304.193548</td>\n",
       "      <td>151.741935</td>\n",
       "    </tr>\n",
       "  </tbody>\n",
       "</table>\n",
       "<p>12 rows × 24 columns</p>\n",
       "</div>"
      ],
      "text/plain": [
       "hour           0           1          2    3    4    5    6    7    8    9   \\\n",
       "month                                                                         \n",
       "1       54.693548    0.225806   0.000000  0.0  0.0  0.0  0.0  0.0  0.0  0.0   \n",
       "2      128.051724    9.534483   0.000000  0.0  0.0  0.0  0.0  0.0  0.0  0.0   \n",
       "3      183.112903   40.112903   0.000000  0.0  0.0  0.0  0.0  0.0  0.0  0.0   \n",
       "4      310.483333  103.033333   2.750000  0.0  0.0  0.0  0.0  0.0  0.0  0.0   \n",
       "5      375.483871  162.822581  18.483871  0.0  0.0  0.0  0.0  0.0  0.0  0.0   \n",
       "6      413.016667  205.566667  41.533333  0.0  0.0  0.0  0.0  0.0  0.0  0.0   \n",
       "7      402.516129  200.758065  39.596774  0.0  0.0  0.0  0.0  0.0  0.0  0.0   \n",
       "8      320.596774  126.000000  10.967742  0.0  0.0  0.0  0.0  0.0  0.0  0.0   \n",
       "9      212.583333   40.650000   0.050000  0.0  0.0  0.0  0.0  0.0  0.0  0.0   \n",
       "10      90.209677    2.500000   0.000000  0.0  0.0  0.0  0.0  0.0  0.0  0.0   \n",
       "11      24.950000    0.000000   0.000000  0.0  0.0  0.0  0.0  0.0  0.0  0.0   \n",
       "12      20.032258    0.000000   0.000000  0.0  0.0  0.0  0.0  0.0  0.0  0.0   \n",
       "\n",
       "hour   ...          14          15          16          17          18  \\\n",
       "month  ...                                                               \n",
       "1      ...    2.290323   92.225806  248.161290  385.532258  500.161290   \n",
       "2      ...   16.603448  147.431034  323.241379  469.155172  583.793103   \n",
       "3      ...   75.064516  239.822581  433.838710  592.822581  715.500000   \n",
       "4      ...  203.266667  422.883333  624.950000  797.300000  895.450000   \n",
       "5      ...  295.741935  504.548387  693.516129  846.516129  955.500000   \n",
       "6      ...  316.416667  529.716667  717.100000  875.983333  979.033333   \n",
       "7      ...  253.145161  450.645161  644.064516  788.322581  900.677419   \n",
       "8      ...  193.709677  390.145161  589.693548  758.677419  863.903226   \n",
       "9      ...  149.283333  350.400000  538.050000  700.583333  819.400000   \n",
       "10     ...   90.419355  271.645161  444.387097  599.887097  714.822581   \n",
       "11     ...   29.533333  178.500000  341.933333  483.783333  568.716667   \n",
       "12     ...    5.516129  106.370968  255.370968  391.451613  502.258065   \n",
       "\n",
       "hour            19           20          21          22          23  \n",
       "month                                                                \n",
       "1       553.241935   545.451613  475.532258  353.629032  213.016129  \n",
       "2       657.034483   672.362069  610.793103  495.620690  320.793103  \n",
       "3       749.096774   732.048387  665.483871  534.177419  363.645161  \n",
       "4       942.683333   913.650000  833.116667  703.650000  519.150000  \n",
       "5      1010.629032   989.887097  909.096774  776.661290  593.645161  \n",
       "6      1017.250000  1002.550000  918.416667  795.050000  619.400000  \n",
       "7       965.225806   935.822581  874.274194  748.000000  585.451613  \n",
       "8       919.483871   913.951613  837.564516  710.903226  528.419355  \n",
       "9       864.850000   835.883333  745.716667  606.266667  414.933333  \n",
       "10      764.709677   722.758065  616.967742  464.483871  275.096774  \n",
       "11      586.550000   572.150000  485.450000  336.800000  169.983333  \n",
       "12      546.564516   522.354839  435.435484  304.193548  151.741935  \n",
       "\n",
       "[12 rows x 24 columns]"
      ]
     },
     "execution_count": 149,
     "metadata": {},
     "output_type": "execute_result"
    }
   ],
   "source": [
    "df = pd.DataFrame({'ghi': tseries}, index=time_index)\n",
    "df[\"year\"] = df.index.year\n",
    "df[\"month\"] = df.index.month\n",
    "df[\"day\"] = df.index.day\n",
    "df[\"hour\"] = df.index.hour\n",
    "\n",
    "agg = df.groupby([\"month\",\"hour\"]).mean()\n",
    "agg = agg.reset_index().pivot(index=\"month\",columns=\"hour\",values=\"ghi\")\n",
    "agg\n"
   ]
  },
  {
   "cell_type": "code",
   "execution_count": null,
   "metadata": {
    "ExecuteTime": {
     "end_time": "2019-02-06T19:58:30.404312Z",
     "start_time": "2019-02-06T19:58:30.214762Z"
    }
   },
   "outputs": [
    {
     "data": {
      "text/plain": [
       "<matplotlib.colorbar.Colorbar at 0x7a11516f2060>"
      ]
     },
     "execution_count": 150,
     "metadata": {},
     "output_type": "execute_result"
    },
    {
     "data": {
      "image/png": "[encoded data removed]",
      "text/plain": [
       "<Figure size 640x480 with 2 Axes>"
      ]
     },
     "metadata": {},
     "output_type": "display_data"
    }
   ],
   "source": [
    "plt.imshow(agg)\n",
    "plt.xlabel(\"Hour\")\n",
    "plt.ylabel(\"Month\")\n",
    "plt.title(\"12 x 24 Mean GHI (W/m^2)\")\n",
    "plt.colorbar()"
   ]
  },
  {
   "cell_type": "code",
   "execution_count": null,
   "metadata": {},
   "outputs": [],
   "source": []
  }
 ],
 "metadata": {
  "kernelspec": {
   "display_name": "Python 3",
   "language": "python",
   "name": "python3"
  },
  "language_info": {
   "codemirror_mode": {
    "name": "ipython",
    "version": 3
   },
   "file_extension": ".py",
   "mimetype": "text/x-python",
   "name": "python",
   "nbconvert_exporter": "python",
   "pygments_lexer": "ipython3",
   "version": "3.12.1"
  }
 },
 "nbformat": 4,
 "nbformat_minor": 1
}
